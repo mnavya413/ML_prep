{
 "cells": [
  {
   "cell_type": "code",
   "execution_count": null,
   "id": "f38f7c2e",
   "metadata": {},
   "outputs": [],
   "source": [
    "numbers = [1, 42, 13, 34, 5, 26, 74, 8, 39, 10]\n",
    "\n",
    "Create a new list containing the squares of each number in the list.\n",
    "Create a new list containing only the even numbers from the list.\n",
    "Create a new list containing only the odd numbers from the list.\n",
    "Create a new list containing each number from the list multiplied by 5.\n",
    "Create a new list containing the square roots of each number in the list.\n",
    "Create a new list containing only the numbers from the list that are greater than 5.\n",
    "Create a new list containing the factorial of each number in the list.\n",
    "Create a new list containing each number from the list raised to the power of 3.\n",
    "Create a new list containing the reciprocal (1/n) of each number in the list.\n",
    "Create a new list containing only the prime numbers from the list.\n",
    "\n",
    "\n",
    "strings = ['apple', 'banana', 'cherry', 'date', 'elderberry', 'fig', 'grape', 'honeydew', 'ice cream', 'jackfruit']\n",
    "\n",
    "Create a new list containing the length of each string in the list.\n",
    "Create a new list containing only the strings from the list that start with a vowel.\n",
    "Create a new list containing only the strings from the list that end with a vowel.\n",
    "Create a new list containing each string from the list converted to uppercase.\n",
    "Create a new list containing each string from the list converted to lowercase.\n"
   ]
  },
  {
   "cell_type": "code",
   "execution_count": 1,
   "id": "34c65c09",
   "metadata": {},
   "outputs": [
    {
     "name": "stdout",
     "output_type": "stream",
     "text": [
      "[1, 1764, 169, 1156, 25, 676, 5476, 64, 1521, 100]\n"
     ]
    }
   ],
   "source": [
    "#Create a new list containing the squares of each number in the list.\n",
    "numbers = [1, 42, 13, 34, 5, 26, 74, 8, 39, 10]\n",
    "squares=[]\n",
    "for i in numbers:\n",
    "    squares.append(i**2)\n",
    "print(squares)"
   ]
  },
  {
   "cell_type": "code",
   "execution_count": 17,
   "id": "f00a1e49",
   "metadata": {},
   "outputs": [
    {
     "name": "stdout",
     "output_type": "stream",
     "text": [
      "[42, 34, 26, 74, 8, 10]\n"
     ]
    }
   ],
   "source": [
    "#Create a new list containing only the even numbers from the list.\n",
    "numbers = [1, 42, 13, 34, 5, 26, 74, 8, 39, 10]\n",
    "even_numbers=[i for i in numbers if i%2==0]\n",
    "print(even_numbers)\n"
   ]
  },
  {
   "cell_type": "code",
   "execution_count": 18,
   "id": "0f07b59e",
   "metadata": {},
   "outputs": [
    {
     "name": "stdout",
     "output_type": "stream",
     "text": [
      "[1, 13, 5, 39]\n"
     ]
    }
   ],
   "source": [
    "#Create a new list containing only the odd numbers from the list.\n",
    "numbers = [1, 42, 13, 34, 5, 26, 74, 8, 39, 10]\n",
    "odd_numbers=[i for i in numbers if i%2!=0]\n",
    "print(odd_numbers)"
   ]
  },
  {
   "cell_type": "code",
   "execution_count": 21,
   "id": "872cfa71",
   "metadata": {},
   "outputs": [
    {
     "name": "stdout",
     "output_type": "stream",
     "text": [
      "[5, 210, 65, 170, 25, 130, 370, 40, 195, 50]\n"
     ]
    }
   ],
   "source": [
    "#Create a new list containing each number from the list multiplied by 5.\n",
    "numbers = [1, 42, 13, 34, 5, 26, 74, 8, 39, 10]\n",
    "multiplied_by5=[i*5 for i in numbers ]\n",
    "print(multiplied_by5)"
   ]
  },
  {
   "cell_type": "code",
   "execution_count": 22,
   "id": "41900575",
   "metadata": {},
   "outputs": [
    {
     "name": "stdout",
     "output_type": "stream",
     "text": [
      "[1.0, 6.48074069840786, 3.605551275463989, 5.830951894845301, 2.23606797749979, 5.0990195135927845, 8.602325267042627, 2.8284271247461903, 6.244997998398398, 3.1622776601683795]\n"
     ]
    }
   ],
   "source": [
    "#Create a new list containing the square roots of each number in the list.\n",
    "numbers = [1, 42, 13, 34, 5, 26, 74, 8, 39, 10]\n",
    "square_roots=[i**(1/2) for i in numbers ]\n",
    "print(square_roots)"
   ]
  },
  {
   "cell_type": "code",
   "execution_count": 25,
   "id": "b89758b1",
   "metadata": {},
   "outputs": [
    {
     "name": "stdout",
     "output_type": "stream",
     "text": [
      "[42, 13, 34, 26, 74, 8, 39, 10]\n"
     ]
    }
   ],
   "source": [
    "#Create a new list containing only the numbers from the list that are greater than 5.\n",
    "numbers = [1, 42, 13, 34, 5, 26, 74, 8, 39, 10]\n",
    "greater_than5=[i for i in numbers if i>5]\n",
    "print(greater_than5)"
   ]
  },
  {
   "cell_type": "code",
   "execution_count": 32,
   "id": "630f153f",
   "metadata": {},
   "outputs": [
    {
     "name": "stdout",
     "output_type": "stream",
     "text": [
      "[1, 1405006117752879898543142606244511569936384000000000, 6227020800, 295232799039604140847618609643520000000, 120, 403291461126605635584000000, 330788544151938641225953028221253782145683251820934971170611926835411235700971565459250872320000000000000000, 40320, 20397882081197443358640281739902897356800000000, 3628800]\n"
     ]
    }
   ],
   "source": [
    "#Create a new list containing the factorial of each number in the list.\n",
    "import math\n",
    "numbers = [1, 42, 13, 34, 5, 26, 74, 8, 39, 10]\n",
    "factorials = list(map(lambda x: math.factorial(x), numbers))\n",
    "print(factorials)"
   ]
  },
  {
   "cell_type": "code",
   "execution_count": 33,
   "id": "4b1726c5",
   "metadata": {},
   "outputs": [
    {
     "name": "stdout",
     "output_type": "stream",
     "text": [
      "[1, 74088, 2197, 39304, 125, 17576, 405224, 512, 59319, 1000]\n"
     ]
    }
   ],
   "source": [
    "#Create a new list containing each number from the list raised to the power of 3.\n",
    "numbers = [1, 42, 13, 34, 5, 26, 74, 8, 39, 10]\n",
    "power_of3=[i**3 for i in numbers ]\n",
    "print(power_of3)"
   ]
  },
  {
   "cell_type": "code",
   "execution_count": 40,
   "id": "a8b739be",
   "metadata": {},
   "outputs": [
    {
     "name": "stdout",
     "output_type": "stream",
     "text": [
      "[1.0, 0.023809523809523808, 0.07692307692307693, 0.029411764705882353, 0.2, 0.038461538461538464, 0.013513513513513514, 0.125, 0.02564102564102564, 0.1]\n"
     ]
    }
   ],
   "source": [
    "#Create a new list containing the reciprocal (1/n) of each number in the list.\n",
    "numbers = [1, 42, 13, 34, 5, 26, 74, 8, 39, 10]\n",
    "\n",
    "decimal_number = [1/i for i in numbers]\n",
    "\n",
    "print(decimal_number)"
   ]
  },
  {
   "cell_type": "code",
   "execution_count": 41,
   "id": "fef88315",
   "metadata": {},
   "outputs": [
    {
     "name": "stdout",
     "output_type": "stream",
     "text": [
      "[13, 5]\n"
     ]
    }
   ],
   "source": [
    "#Create a new list containing only the prime numbers from the list.\n",
    "\n",
    "def prime(number):\n",
    "    if number <= 1:\n",
    "        return False\n",
    "    for i in range(2, number):\n",
    "        if number % i == 0:\n",
    "            return False\n",
    "    return True\n",
    "\n",
    "numbers = [1, 42, 13, 34, 5, 26, 74, 8, 39, 10]\n",
    "prime_numbers = [num for num in numbers if prime(num)]\n",
    "print(prime_numbers)\n"
   ]
  },
  {
   "cell_type": "code",
   "execution_count": null,
   "id": "4f59f1f1",
   "metadata": {},
   "outputs": [],
   "source": [
    "strings = ['apple', 'banana', 'cherry', 'date', 'elderberry', 'fig', 'grape', 'honeydew', 'ice cream', 'jackfruit']\n",
    "\n",
    "Create a new list containing the length of each string in the list.\n",
    "Create a new list containing only the strings from the list that start with a vowel.\n",
    "Create a new list containing only the strings from the list that end with a vowel.\n",
    "Create a new list containing each string from the list converted to uppercase.\n",
    "Create a new list containing each string from the list converted to lowercase."
   ]
  },
  {
   "cell_type": "code",
   "execution_count": 42,
   "id": "98d7ebb8",
   "metadata": {},
   "outputs": [
    {
     "name": "stdout",
     "output_type": "stream",
     "text": [
      "[5, 6, 6, 4, 10, 3, 5, 8, 9, 9]\n"
     ]
    }
   ],
   "source": [
    "strings = ['apple', 'banana', 'cherry', 'date', 'elderberry', 'fig', 'grape', 'honeydew', 'ice cream', 'jackfruit']\n",
    "#Create a new list containing the length of each string in the list.\n",
    "result=[]\n",
    "for i in strings:\n",
    "    result.append(len(i))\n",
    "print(result)"
   ]
  },
  {
   "cell_type": "code",
   "execution_count": 49,
   "id": "561def19",
   "metadata": {},
   "outputs": [
    {
     "name": "stdout",
     "output_type": "stream",
     "text": [
      "['apple', 'elderberry', 'ice cream']\n"
     ]
    }
   ],
   "source": [
    "#Create a new list containing only the strings from the list that start with a vowel.\n",
    "result=[]\n",
    "vowels='AEIOUaeiou'\n",
    "for i in strings:\n",
    "    if i[0] in vowels:\n",
    "        result.append(i)\n",
    "print(result)"
   ]
  },
  {
   "cell_type": "code",
   "execution_count": 50,
   "id": "3e67f4f3",
   "metadata": {},
   "outputs": [
    {
     "name": "stdout",
     "output_type": "stream",
     "text": [
      "['apple', 'banana', 'date', 'grape']\n"
     ]
    }
   ],
   "source": [
    "#Create a new list containing only the strings from the list that end with a vowel.\n",
    "result=[i for i in strings if i[-1] in vowels]\n",
    "print(result)"
   ]
  },
  {
   "cell_type": "code",
   "execution_count": 51,
   "id": "6b30997b",
   "metadata": {},
   "outputs": [
    {
     "name": "stdout",
     "output_type": "stream",
     "text": [
      "['APPLE', 'BANANA', 'CHERRY', 'DATE', 'ELDERBERRY', 'FIG', 'GRAPE', 'HONEYDEW', 'ICE CREAM', 'JACKFRUIT']\n"
     ]
    }
   ],
   "source": [
    "#Create a new list containing each string from the list converted to uppercase.\n",
    "result=[i.upper() for i in strings]\n",
    "print(result)"
   ]
  },
  {
   "cell_type": "code",
   "execution_count": 52,
   "id": "d476b3f6",
   "metadata": {},
   "outputs": [
    {
     "name": "stdout",
     "output_type": "stream",
     "text": [
      "['apple', 'banana', 'cherry', 'date', 'elderberry', 'fig', 'grape', 'honeydew', 'ice cream', 'jackfruit']\n"
     ]
    }
   ],
   "source": [
    "#Create a new list containing each string from the list converted to lowercase.\n",
    "result=[i.lower() for i in strings]\n",
    "print(result)"
   ]
  },
  {
   "cell_type": "code",
   "execution_count": null,
   "id": "c047ca4a",
   "metadata": {},
   "outputs": [],
   "source": []
  }
 ],
 "metadata": {
  "kernelspec": {
   "display_name": "Python 3 (ipykernel)",
   "language": "python",
   "name": "python3"
  },
  "language_info": {
   "codemirror_mode": {
    "name": "ipython",
    "version": 3
   },
   "file_extension": ".py",
   "mimetype": "text/x-python",
   "name": "python",
   "nbconvert_exporter": "python",
   "pygments_lexer": "ipython3",
   "version": "3.9.12"
  }
 },
 "nbformat": 4,
 "nbformat_minor": 5
}
