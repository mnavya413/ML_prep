{
 "cells": [
  {
   "cell_type": "code",
   "execution_count": null,
   "id": "85df842f",
   "metadata": {},
   "outputs": [],
   "source": [
    "a=input()\n",
    "d=0\n",
    "for i in range(query):\n",
    "    d=i[0]\n",
    "    print(d);\n"
   ]
  },
  {
   "cell_type": "code",
   "execution_count": null,
   "id": "c804667c",
   "metadata": {},
   "outputs": [],
   "source": []
  }
 ],
 "metadata": {
  "kernelspec": {
   "display_name": "Python 3 (ipykernel)",
   "language": "python",
   "name": "python3"
  },
  "language_info": {
   "codemirror_mode": {
    "name": "ipython",
    "version": 3
   },
   "file_extension": ".py",
   "mimetype": "text/x-python",
   "name": "python",
   "nbconvert_exporter": "python",
   "pygments_lexer": "ipython3",
   "version": "3.9.12"
  }
 },
 "nbformat": 4,
 "nbformat_minor": 5
}
