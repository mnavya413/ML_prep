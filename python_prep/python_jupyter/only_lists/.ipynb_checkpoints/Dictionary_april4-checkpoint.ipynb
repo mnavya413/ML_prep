{
 "cells": [
  {
   "cell_type": "code",
   "execution_count": 1,
   "id": "e849d3ca",
   "metadata": {},
   "outputs": [
    {
     "ename": "SyntaxError",
     "evalue": "invalid syntax (1812803786.py, line 1)",
     "output_type": "error",
     "traceback": [
      "\u001b[1;36m  Cell \u001b[1;32mIn [1], line 1\u001b[1;36m\u001b[0m\n\u001b[1;33m    1.\tCreate a dictionary with 5 US states as keys and and their capitals as values.\u001b[0m\n\u001b[1;37m      \t^\u001b[0m\n\u001b[1;31mSyntaxError\u001b[0m\u001b[1;31m:\u001b[0m invalid syntax\n"
     ]
    }
   ],
   "source": [
    "1.\tCreate a dictionary with 5 US states as keys and and their capitals as values. \n",
    "2.\tprint all (key, value) pairs -- what method do you use.\n",
    "3.\tprint only keys. \n",
    "4.\tprint only values. \n",
    "5.\tlength of the dictionary \n",
    "6.\tmake a list with these keys as elements. \n",
    "7.\tmake a list with these values as elements. \n",
    "8.\tSwap the keys and values in the dictionary -- keys should become values and values should become keys. \n",
    "9.\tcreate another dictionary in which keys are US states and values as the length of each corresponding key. \n",
    "10.\tcreate another dictionary in which keys are US states and values as the reversed string of each corresponding key ex-- dict = {'texas' : 'xaset'}\n",
    "11.\tcreate another dictionary in which keys are US states and values as the sum of ascii values of all the elements within each key\n",
    "12.\tget the value at key number 3\n",
    "13.\tWhat’s the sum of lengths of key1 and key2\n",
    "14.\tWhat’s the sum of lengths of value1 and value2\n",
    "15.\tWhat’s the sum of lengths of key1 and value3"
   ]
  },
  {
   "cell_type": "code",
   "execution_count": 18,
   "id": "96274b7e",
   "metadata": {},
   "outputs": [
    {
     "name": "stdout",
     "output_type": "stream",
     "text": [
      "{'Colorado': 'Denver', 'Texas': 'Austin', 'California': 'Sacramento', 'New York': 'Albany', 'Florida': 'Tallahassee'}\n"
     ]
    }
   ],
   "source": [
    "#1.\tCreate a dictionary with 5 US states as keys and and their capitals as values. \n",
    "def dictionar(x):\n",
    "    US_dict={\n",
    "        \"Colorado\" : \"Denver\",\n",
    "         \"Texas\" : \"Austin\",\n",
    "         \"California\" : \"Sacramento\",\n",
    "         \"New York\" : \"Albany\",\n",
    "         \"Florida\" : \"Tallahassee\"\n",
    "    }\n",
    "\n",
    "print(US_dict)\n",
    "\n"
   ]
  },
  {
   "cell_type": "code",
   "execution_count": 96,
   "id": "b7f618ac",
   "metadata": {},
   "outputs": [
    {
     "name": "stdout",
     "output_type": "stream",
     "text": [
      "Colorado Denver\n",
      "Texas Austin\n",
      "California Sacramento\n",
      "New York Albany\n",
      "Florida Tallahassee\n"
     ]
    }
   ],
   "source": [
    "for x, y in US_dict.items():\n",
    "    print(x, y)"
   ]
  },
  {
   "cell_type": "code",
   "execution_count": 20,
   "id": "c8fd7b02",
   "metadata": {},
   "outputs": [
    {
     "name": "stdout",
     "output_type": "stream",
     "text": [
      "dict_items([('Colorado', 'Denver'), ('Texas', 'Austin'), ('California', 'Sacramento'), ('New York', 'Albany'), ('Florida', 'Tallahassee')])\n"
     ]
    }
   ],
   "source": [
    "#2.\tprint all (key, value) pairs -- what method do you use.\n",
    "x= US_dict.items()\n",
    "print(x)"
   ]
  },
  {
   "cell_type": "code",
   "execution_count": 21,
   "id": "8912705b",
   "metadata": {},
   "outputs": [
    {
     "data": {
      "text/plain": [
       "dict_keys(['Colorado', 'Texas', 'California', 'New York', 'Florida'])"
      ]
     },
     "execution_count": 21,
     "metadata": {},
     "output_type": "execute_result"
    }
   ],
   "source": [
    "#3.\tprint only keys.\n",
    "US_dict.keys()"
   ]
  },
  {
   "cell_type": "code",
   "execution_count": 22,
   "id": "cc1739d0",
   "metadata": {},
   "outputs": [
    {
     "data": {
      "text/plain": [
       "dict_values(['Denver', 'Austin', 'Sacramento', 'Albany', 'Tallahassee'])"
      ]
     },
     "execution_count": 22,
     "metadata": {},
     "output_type": "execute_result"
    }
   ],
   "source": [
    "#4.\tprint only values.\n",
    "US_dict.values()"
   ]
  },
  {
   "cell_type": "code",
   "execution_count": 25,
   "id": "239918a9",
   "metadata": {},
   "outputs": [
    {
     "name": "stdout",
     "output_type": "stream",
     "text": [
      "5\n"
     ]
    }
   ],
   "source": [
    "#5.\tlength of the dictionary \n",
    "print(len(US_dict))"
   ]
  },
  {
   "cell_type": "code",
   "execution_count": 44,
   "id": "c3ff69bf",
   "metadata": {},
   "outputs": [
    {
     "name": "stdout",
     "output_type": "stream",
     "text": [
      "['Colorado', 'Texas', 'California', 'New York', 'Florida']\n"
     ]
    }
   ],
   "source": [
    "#6.\tmake a list with these keys as elements. \n",
    "print(list(US_dict.keys()))\n",
    "\n",
    "        "
   ]
  },
  {
   "cell_type": "code",
   "execution_count": 45,
   "id": "3dad4d66",
   "metadata": {},
   "outputs": [
    {
     "name": "stdout",
     "output_type": "stream",
     "text": [
      "['Denver', 'Austin', 'Sacramento', 'Albany', 'Tallahassee']\n"
     ]
    }
   ],
   "source": [
    "#7.\tmake a list with these values as elements. \n",
    "print(list(US_dict.values()))"
   ]
  },
  {
   "cell_type": "code",
   "execution_count": 47,
   "id": "dcad973b",
   "metadata": {},
   "outputs": [
    {
     "data": {
      "text/plain": [
       "['Colorado', 'Texas', 'California', 'New York', 'Florida']"
      ]
     },
     "execution_count": 47,
     "metadata": {},
     "output_type": "execute_result"
    }
   ],
   "source": [
    "#7.\tmake a list with these keys as elements. \n",
    "def my_dict(i):\n",
    "    my_list=[]\n",
    "    for x in i.keys():\n",
    "        my_list.append(x)\n",
    "    return my_list\n",
    "\n",
    "my_dict(US_dict)\n",
    "        "
   ]
  },
  {
   "cell_type": "code",
   "execution_count": 48,
   "id": "271c8e30",
   "metadata": {},
   "outputs": [
    {
     "data": {
      "text/plain": [
       "['Denver', 'Austin', 'Sacramento', 'Albany', 'Tallahassee']"
      ]
     },
     "execution_count": 48,
     "metadata": {},
     "output_type": "execute_result"
    }
   ],
   "source": [
    "#7.\tmake a list with these values as elements. \n",
    "def my_dict(i):\n",
    "    my_list=[]\n",
    "    for x in i.values():\n",
    "        my_list.append(x)\n",
    "    return my_list\n",
    "\n",
    "my_dict(US_dict)\n",
    "        "
   ]
  },
  {
   "cell_type": "code",
   "execution_count": 97,
   "id": "3b59cf0d",
   "metadata": {},
   "outputs": [
    {
     "name": "stdout",
     "output_type": "stream",
     "text": [
      "Denver  :   Colorado\n",
      "Austin  :   Texas\n",
      "Sacramento  :   California\n",
      "Albany  :   New York\n",
      "Tallahassee  :   Florida\n"
     ]
    }
   ],
   "source": [
    "#8.\tSwap the keys and values in the dictionary -- keys should become values and values should become keys.\n",
    "\n",
    "\n",
    "new_dict = dict([(value, key) for key, value in US_dict.items()])\n",
    "for i in new_dict:\n",
    "    print(i, \" :  \", new_dict[i])\n"
   ]
  },
  {
   "cell_type": "code",
   "execution_count": 98,
   "id": "adb0132b",
   "metadata": {},
   "outputs": [
    {
     "name": "stdout",
     "output_type": "stream",
     "text": [
      "{'Denver': 'Colorado', 'Austin': 'Texas', 'Sacramento': 'California', 'Albany': 'New York', 'Tallahassee': 'Florida'}\n"
     ]
    }
   ],
   "source": [
    "print(new_dict)"
   ]
  },
  {
   "cell_type": "code",
   "execution_count": 63,
   "id": "f1a9ee52",
   "metadata": {},
   "outputs": [
    {
     "name": "stdout",
     "output_type": "stream",
     "text": [
      "dict_items([('Colorado', 'Denver'), ('Texas', 'Austin'), ('California', 'Sacramento'), ('New York', 'Albany'), ('Florida', 'Tallahassee')])\n",
      "Colorado :  8\n",
      "Texas :  5\n",
      "California :  10\n",
      "New York :  8\n",
      "Florida :  7\n"
     ]
    }
   ],
   "source": [
    "#9.\tcreate another dictionary in which keys are US states and values as the length of each corresponding key\n",
    "#def new_dict(dictionary):\n",
    "#print(dict())\n",
    "\n",
    "x=US_dict.items()\n",
    "print(x)\n",
    "new_dict=dict([(key,len(key)) for key,value in US_dict.items()])\n",
    "for i in new_dict:\n",
    "    print(i,\": \" , new_dict[i])\n",
    "\n",
    "\n"
   ]
  },
  {
   "cell_type": "code",
   "execution_count": 64,
   "id": "9e3ba7ea",
   "metadata": {},
   "outputs": [
    {
     "name": "stdout",
     "output_type": "stream",
     "text": [
      "dict_items([('Colorado', 'Denver'), ('Texas', 'Austin'), ('California', 'Sacramento'), ('New York', 'Albany'), ('Florida', 'Tallahassee')])\n",
      "Colorado :  odaroloC\n",
      "Texas :  saxeT\n",
      "California :  ainrofilaC\n",
      "New York :  kroY weN\n",
      "Florida :  adirolF\n"
     ]
    }
   ],
   "source": [
    "#10.\tcreate another dictionary in which keys are US states and values as the reversed string of each corresponding key ex-- dict = {'texas' : 'xaset'}\n",
    "x=US_dict.items()\n",
    "print(x)\n",
    "new_dict=dict([(key,key[::-1]) for key,value in US_dict.items()])\n",
    "for i in new_dict:\n",
    "    print(i,\": \" , new_dict[i])"
   ]
  },
  {
   "cell_type": "code",
   "execution_count": 85,
   "id": "40b2bb30",
   "metadata": {},
   "outputs": [
    {
     "name": "stdout",
     "output_type": "stream",
     "text": [
      "dict_items([('Colorado', 'Denver'), ('Texas', 'Austin'), ('California', 'Sacramento'), ('New York', 'Albany'), ('Florida', 'Tallahassee')])\n",
      "Colorado :  819\n",
      "Texas :  517\n",
      "California :  1016\n",
      "New York :  751\n",
      "Florida :  705\n"
     ]
    }
   ],
   "source": [
    "#11.\tcreate another dictionary in which keys are US states and values as the sum of ascii values of all the elements within each key\n",
    "Y=US_dict.items()\n",
    "print(Y)\n",
    "new_dict=dict([(key,sum(ord(x) for x in key)) for key,value in US_dict.items()])\n",
    "for x in new_dict.keys():\n",
    "    print(x,\": \" , new_dict[x])\n",
    "     \n",
    "    "
   ]
  },
  {
   "cell_type": "code",
   "execution_count": 95,
   "id": "c5a93eca",
   "metadata": {},
   "outputs": [
    {
     "name": "stdout",
     "output_type": "stream",
     "text": [
      "California\n"
     ]
    }
   ],
   "source": [
    "#12.\tget the value at key number 3\n",
    "\n",
    "print(list(US_dict.keys())[2])"
   ]
  },
  {
   "cell_type": "code",
   "execution_count": 92,
   "id": "14196a14",
   "metadata": {},
   "outputs": [
    {
     "name": "stdout",
     "output_type": "stream",
     "text": [
      "13\n",
      "\n"
     ]
    }
   ],
   "source": [
    "#13.\tWhat’s the sum of lengths of key1 and key2\n",
    "keys_list = list(US_dict.keys())\n",
    "values_list = list(US_dict.values())\n",
    "\n",
    "x = len(keys_list[0] + keys_list[1])\n",
    "#x=len(\"Colorado\")+len(\"Texas\")\n",
    "print(x)\n",
    "\n"
   ]
  },
  {
   "cell_type": "code",
   "execution_count": 93,
   "id": "97c57ae1",
   "metadata": {},
   "outputs": [
    {
     "name": "stdout",
     "output_type": "stream",
     "text": [
      "12\n"
     ]
    }
   ],
   "source": [
    "#14.\tWhat’s the sum of lengths of value1 and value2\n",
    "x=len(values_list[0] + values_list[1])\n",
    "print(x)"
   ]
  },
  {
   "cell_type": "code",
   "execution_count": 94,
   "id": "dc4f439e",
   "metadata": {},
   "outputs": [
    {
     "name": "stdout",
     "output_type": "stream",
     "text": [
      "18\n"
     ]
    }
   ],
   "source": [
    "#15.\tWhat’s the sum of lengths of key1 and value3\n",
    "x=len(keys_list[0] + values_list[2])\n",
    "print(x)\n"
   ]
  },
  {
   "cell_type": "code",
   "execution_count": 1,
   "id": "7adabc63",
   "metadata": {},
   "outputs": [
    {
     "ename": "SyntaxError",
     "evalue": "invalid syntax (120352995.py, line 2)",
     "output_type": "error",
     "traceback": [
      "\u001b[1;36m  Cell \u001b[1;32mIn [1], line 2\u001b[1;36m\u001b[0m\n\u001b[1;33m    Take 2 lists, one list containg string  and the other values , create a dict using str a skeys and values as values\u001b[0m\n\u001b[1;37m         ^\u001b[0m\n\u001b[1;31mSyntaxError\u001b[0m\u001b[1;31m:\u001b[0m invalid syntax\n"
     ]
    }
   ],
   "source": [
    "zip(keys,values)\n",
    "Take 2 lists, one list containg string  and the other values , create a dict using str a skeys and values as values\n",
    "Take 2 list of integers of len 5 and return the sum of the harmonic means of each pair of numbers with same index \n",
    " round the sum and find the character value ord=char \n",
    "Take 3 integer lists of length 5 and use a zip command to create the 4th list such that each element o fthe list is equal to the arithmetic mean of the corresponding elements of those three lists \n",
    "use this 4 lists and then use a zip command to create a 5th list such that each element of the list is equal to the geometric mean of the corresponding eleemts of those 4 lists\n",
    "Take a str s=florida and split all the characters \n",
    "for the given string florida i have to create a dict containf keys are characters of the str and values are ascii values"
   ]
  },
  {
   "cell_type": "code",
   "execution_count": 3,
   "id": "bf01772a",
   "metadata": {},
   "outputs": [
    {
     "name": "stdout",
     "output_type": "stream",
     "text": [
      "{'Anna': 1, 'John': 2, 'Rachel': 3, 'Ross': 4, 'Joey': 5}\n"
     ]
    }
   ],
   "source": [
    "#1.Take 2 lists, one list containg string  and the other values , create a dict using str a skeys and values as valueskeys_list=[\"Anna\",\"John\",\"Rachel\",\"Ross\",\"Joey\"]\n",
    "values_list=[1,2,3,4,5]\n",
    "result=dict(zip(keys_list,values_list))\n",
    "print(result)"
   ]
  },
  {
   "cell_type": "code",
   "execution_count": 87,
   "id": "3575f04e",
   "metadata": {},
   "outputs": [
    {
     "name": "stdout",
     "output_type": "stream",
     "text": [
      "[103.43961352657004, 104.4401913875598, 105.44075829383887, 106.44131455399061, 107.44186046511628]\n"
     ]
    }
   ],
   "source": [
    "#2.Take 2 list of integers of len 5 and return the sum of the harmonic means of each pair of numbers with same index \n",
    "def harmonic_mean(list_x,list_y):\n",
    "    result=[]\n",
    "    for i,j in zip(list_x,list_y):\n",
    "        temp= 2*i*j/(i+j)\n",
    "        result.append(temp)\n",
    "    return result\n",
    "\n",
    "\n",
    "new_list=harmonic_mean([101,102,103,104,105],[106,107,108,109,110])\n",
    "print(new_list)\n",
    "    \n",
    "\n",
    "    \n",
    "    \n",
    "    "
   ]
  },
  {
   "cell_type": "code",
   "execution_count": 88,
   "id": "a93f9f7c",
   "metadata": {},
   "outputs": [
    {
     "name": "stdout",
     "output_type": "stream",
     "text": [
      "[103, 104, 105, 106, 107]\n",
      "['g', 'h', 'i', 'j', 'k']\n"
     ]
    }
   ],
   "source": [
    "#round the sum and find the character value ord=char \n",
    "x=[]\n",
    "for i in new_list:\n",
    "    x.append(round(i))\n",
    "print(x)\n",
    "y= [chr(a) for a in x]\n",
    "print(y)\n",
    "\n",
    "    "
   ]
  },
  {
   "cell_type": "code",
   "execution_count": 119,
   "id": "bdf96e25",
   "metadata": {},
   "outputs": [
    {
     "name": "stdout",
     "output_type": "stream",
     "text": [
      "[6.0, 7.0, 8.0, 9.0, 10.0]\n"
     ]
    }
   ],
   "source": [
    "#Take 3 integer lists of length 5 and use a zip command to create the 4th list such that each element o fthe list is equal to the arithmetic mean of the corresponding elements of those three lists \n",
    "def arithmetic_mean(list_x, list_y, list_z):\n",
    "    x=zip(list_x,list_y)\n",
    "    \n",
    "    result=[]\n",
    "    #n=len()\n",
    "    for i,j,k in zip(list_x,list_y,list_z):\n",
    "        temp_mean=(i+j+k)/3\n",
    "        result.append(temp_mean)\n",
    "    return result\n",
    "\n",
    "y=arithmetic_mean([1,2,3,4,5],[6,7,8,9,10], [11,12,13,14,15])\n",
    "z=list(y)\n",
    "print(z)"
   ]
  },
  {
   "cell_type": "code",
   "execution_count": 113,
   "id": "7bea98da",
   "metadata": {},
   "outputs": [
    {
     "name": "stdout",
     "output_type": "stream",
     "text": [
      "[1, 2, 3, 4]\n",
      "[1, 4, 9, 16]\n"
     ]
    }
   ],
   "source": [
    "lis = [1,2,3,4]\n",
    "print(lis)\n",
    "\n",
    "def squares(i):\n",
    "    return i*i\n",
    "\n",
    "new_lis = list(map(squares, lis))\n",
    "print(new_lis)"
   ]
  },
  {
   "cell_type": "code",
   "execution_count": 102,
   "id": "fe046d32",
   "metadata": {},
   "outputs": [
    {
     "name": "stdout",
     "output_type": "stream",
     "text": [
      "2.0\n"
     ]
    }
   ],
   "source": [
    "print(sum([1,2,3])/len([1,2,3]))"
   ]
  },
  {
   "cell_type": "code",
   "execution_count": 116,
   "id": "fd522132",
   "metadata": {},
   "outputs": [
    {
     "name": "stdout",
     "output_type": "stream",
     "text": [
      "[(2, 'N'), (3, 'a'), (4, 'v'), (5, 'y'), (6, 'a')]\n"
     ]
    }
   ],
   "source": [
    "m = \"Navya\"\n",
    "print(list(enumerate(m, start=2)))"
   ]
  },
  {
   "cell_type": "code",
   "execution_count": 126,
   "id": "0b15d4f0",
   "metadata": {},
   "outputs": [
    {
     "name": "stdout",
     "output_type": "stream",
     "text": [
      "[4.460913442573438, 5.856010279957208, 7.068237686098791, 8.206694399204283, 9.306048591020996]\n"
     ]
    }
   ],
   "source": [
    " #use this 4 lists and then use a zip command to create a 5th list such that each element of the list is equal to the geometric mean of the corresponding eleemts of those 4 lists\n",
    "def geometric_mean(list_x, list_y, list_z,list_a):\n",
    "    \n",
    "    \n",
    "    result=[]\n",
    "    \n",
    "    for i,j,k,l in zip(list_x,list_y,list_z,list_a):\n",
    "        temp_mean=(i*j*k*l)**(1/4)\n",
    "        result.append(temp_mean)\n",
    "    return result\n",
    "\n",
    "y=geometric_mean([1,2,3,4,5],[6,7,8,9,10], [11,12,13,14,15],[6, 7, 8, 9, 10])\n",
    "z=list(y)\n",
    "print(z)"
   ]
  },
  {
   "cell_type": "code",
   "execution_count": 131,
   "id": "4ad05126",
   "metadata": {},
   "outputs": [
    {
     "name": "stdout",
     "output_type": "stream",
     "text": [
      "4.460913442573438\n"
     ]
    }
   ],
   "source": [
    "print(396**(1/4))"
   ]
  },
  {
   "cell_type": "code",
   "execution_count": 120,
   "id": "ddff945f",
   "metadata": {},
   "outputs": [
    {
     "name": "stdout",
     "output_type": "stream",
     "text": [
      "['F', 'L', 'O', 'R', 'I', 'D', 'A']\n"
     ]
    }
   ],
   "source": [
    "#Take a str s=florida and split all the characters\n",
    "s=\"FLORIDA\"\n",
    "def split(word):\n",
    "    return list(s)\n",
    "     \n",
    "\n",
    "s=\"FLORIDA\"\n",
    "print(split(s))"
   ]
  },
  {
   "cell_type": "code",
   "execution_count": 141,
   "id": "e382755a",
   "metadata": {},
   "outputs": [
    {
     "name": "stdout",
     "output_type": "stream",
     "text": [
      "[70, 76, 79, 82, 73, 68, 65]\n",
      "{'F': 70, 'L': 76, 'O': 79, 'R': 82, 'I': 73, 'D': 68, 'A': 65}\n"
     ]
    }
   ],
   "source": [
    "#for the given string florida create a dict containf keys are characters of the str and values are ascii values\n",
    "\n",
    "s=['F', 'L', 'O', 'R', 'I', 'D', 'A']\n",
    "\n",
    "def fun(x):\n",
    "    return ord(x)\n",
    "\n",
    "new_lis = list(map(fun, s))\n",
    "print(new_lis)\n",
    "new_list=dict(zip(s,new_lis))\n",
    "print(new_list)\n"
   ]
  },
  {
   "cell_type": "code",
   "execution_count": null,
   "id": "c08324bf",
   "metadata": {},
   "outputs": [],
   "source": []
  }
 ],
 "metadata": {
  "kernelspec": {
   "display_name": "Python 3 (ipykernel)",
   "language": "python",
   "name": "python3"
  },
  "language_info": {
   "codemirror_mode": {
    "name": "ipython",
    "version": 3
   },
   "file_extension": ".py",
   "mimetype": "text/x-python",
   "name": "python",
   "nbconvert_exporter": "python",
   "pygments_lexer": "ipython3",
   "version": "3.9.12"
  }
 },
 "nbformat": 4,
 "nbformat_minor": 5
}
