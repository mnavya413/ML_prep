{
 "cells": [
  {
   "cell_type": "code",
   "execution_count": null,
   "id": "4d55bf53",
   "metadata": {},
   "outputs": [],
   "source": [
    "Create a list of 8 elemenrs in which two are duplicates and convert that list into a set and add an element 100 to it\n",
    "Remove the element 3 from the set and check whetehr the element 3 and 4 is present or not\n",
    "now Iterate over eac element of the set reate a setch that each element is equal to the square of each element in the set\n",
    "create set using above two sets\n",
    "get the length of that set , call it l1\n",
    "now Iterate over eac element of the set and create a list such that each element is equal to the square of each element in the set\n",
    "now create set using the list and set above\n",
    "get the length of this set  and call it l2\n",
    "check whether if l1=l2\n",
    "Create another set and find the len, min, max, mean and count\n",
    "Try to sort that set\n",
    "clear all the elements from the set\n",
    "create two sets of random numbers and find the union, intersection and difference of the sets(both ways)\n",
    "compare those two sets (commonaltiy)\n",
    "Create a list and convert it into a set, now check whether an element is in the set \n",
    "read about frozen set and create it\n",
    "create an empty set and list=[1,2,3] and load these elements into that set in reveres order\n",
    "venn diagrams "
   ]
  },
  {
   "cell_type": "code",
   "execution_count": 3,
   "id": "278d83f4",
   "metadata": {},
   "outputs": [
    {
     "name": "stdout",
     "output_type": "stream",
     "text": [
      "{1, 2, 3, 4, 5, 6, 7, 8}\n",
      "{1, 2, 3, 4, 5, 6, 7, 8, 100}\n"
     ]
    }
   ],
   "source": [
    "#Create a list of 8 elemenrs in which two are duplicates and convert that list into a set and add an element 100 to it\n",
    "a_list=[1,2,3,4,5,6,7,8]\n",
    "a_set=set([1,2,3,4,5,6,7,8])\n",
    "print(a_set)\n",
    "a_set.add(100)\n",
    "print(a_set)\n"
   ]
  },
  {
   "cell_type": "code",
   "execution_count": 17,
   "id": "22b3181e",
   "metadata": {},
   "outputs": [
    {
     "name": "stdout",
     "output_type": "stream",
     "text": [
      "{2, 4, 5, 6, 7, 8, 100}\n",
      "False\n",
      "True\n"
     ]
    }
   ],
   "source": [
    "#Remove the element 3 from the set and check whetehr the element 3 and 4 is present or not\n",
    "a_set.discard(3)\n",
    "print(a_set)\n",
    "print(3 in a_set)\n",
    "print(4 in a_set)\n",
    "\n",
    "        \n"
   ]
  },
  {
   "cell_type": "code",
   "execution_count": 29,
   "id": "43df6cd2",
   "metadata": {},
   "outputs": [
    {
     "name": "stdout",
     "output_type": "stream",
     "text": [
      "{16, 9, 4, 25}\n"
     ]
    }
   ],
   "source": [
    "#Iterate over each element of the set create a set such that each element is equal to the square of each element in the set\n",
    "def my_function(a_set):\n",
    "    my_set=[]\n",
    "    for i in a_set:\n",
    "        my_set.append(i*i)\n",
    "    return my_set\n",
    "\n",
    "result=set(my_function({2,3,4,5}))\n",
    "print(result)\n",
    "    "
   ]
  },
  {
   "cell_type": "code",
   "execution_count": 37,
   "id": "bf34905d",
   "metadata": {},
   "outputs": [
    {
     "name": "stdout",
     "output_type": "stream",
     "text": [
      "{2, 4, 5, 6, 7, 8, 100, 9, 16, 25}\n",
      "10\n"
     ]
    }
   ],
   "source": [
    "#create set using above two sets\n",
    "a_set.update(result)\n",
    "print(a_set)\n",
    "l1=len(a_set)\n",
    "print(l1)\n"
   ]
  },
  {
   "cell_type": "code",
   "execution_count": 42,
   "id": "46693cf0",
   "metadata": {},
   "outputs": [
    {
     "data": {
      "text/plain": [
       "[64, 81, 36, 49]"
      ]
     },
     "execution_count": 42,
     "metadata": {},
     "output_type": "execute_result"
    }
   ],
   "source": [
    "#Iterate over eac element of the set and create a list such that each element is equal to the square of each element in the set\n",
    "#now create set using the list and set above\n",
    "#get the length of this set  and call it l2\n",
    "#check whether if l1=l2\n",
    "def my_function1(a_list):\n",
    "    my_list=[]\n",
    "    for i in a_list:\n",
    "        my_list.append(i*i)\n",
    "    return my_list\n",
    "\n",
    "my_function1({6,7,8,9})\n",
    "\n",
    "\n",
    "\n",
    "    "
   ]
  },
  {
   "cell_type": "code",
   "execution_count": 46,
   "id": "401b9f5f",
   "metadata": {},
   "outputs": [
    {
     "name": "stdout",
     "output_type": "stream",
     "text": [
      "{64, 2, 4, 5, 6, 7, 8, 100, 9, 36, 16, 81, 49, 25}\n",
      "14\n"
     ]
    }
   ],
   "source": [
    "#now create set using the list and set above\n",
    "my_list=[64, 81, 36, 49]\n",
    "a_set.update(my_list)\n",
    "print(a_set)\n",
    "l2=len(a_set)\n",
    "print(l2)\n"
   ]
  },
  {
   "cell_type": "code",
   "execution_count": 49,
   "id": "ad31d0e6",
   "metadata": {},
   "outputs": [
    {
     "name": "stdout",
     "output_type": "stream",
     "text": [
      "false\n"
     ]
    }
   ],
   "source": [
    "#check whether if l1=l2\n",
    "if l2 in range(l1):\n",
    "    print(\"true\")\n",
    "else:\n",
    "    print(\"false\")\n",
    "    "
   ]
  },
  {
   "cell_type": "code",
   "execution_count": 75,
   "id": "36eb4706",
   "metadata": {},
   "outputs": [
    {
     "name": "stdout",
     "output_type": "stream",
     "text": [
      "False\n"
     ]
    }
   ],
   "source": [
    "print(l1==l2)"
   ]
  },
  {
   "cell_type": "code",
   "execution_count": 58,
   "id": "a89315f2",
   "metadata": {},
   "outputs": [
    {
     "name": "stdout",
     "output_type": "stream",
     "text": [
      "5\n",
      "0\n",
      "11\n"
     ]
    },
    {
     "ename": "AttributeError",
     "evalue": "'set' object has no attribute 'count'",
     "output_type": "error",
     "traceback": [
      "\u001b[1;31m---------------------------------------------------------------------------\u001b[0m",
      "\u001b[1;31mAttributeError\u001b[0m                            Traceback (most recent call last)",
      "Cell \u001b[1;32mIn [58], line 6\u001b[0m\n\u001b[0;32m      4\u001b[0m \u001b[38;5;28mprint\u001b[39m(\u001b[38;5;28mmin\u001b[39m(b_set))\n\u001b[0;32m      5\u001b[0m \u001b[38;5;28mprint\u001b[39m(\u001b[38;5;28mmax\u001b[39m(b_set))\n\u001b[1;32m----> 6\u001b[0m c\u001b[38;5;241m=\u001b[39m\u001b[43mb_set\u001b[49m\u001b[38;5;241;43m.\u001b[39;49m\u001b[43mcount\u001b[49m(\u001b[38;5;241m11\u001b[39m)\n\u001b[0;32m      7\u001b[0m \u001b[38;5;28mprint\u001b[39m(c)\n",
      "\u001b[1;31mAttributeError\u001b[0m: 'set' object has no attribute 'count'"
     ]
    }
   ],
   "source": [
    "#Create another set and find the len, min, max, mean and count\n",
    "b_set={5,6,11,1,0}\n",
    "print(len(b_set))\n",
    "print(min(b_set))\n",
    "print(max(b_set))\n",
    "c=b_set.count(11)\n",
    "print(c)\n",
    "#print"
   ]
  },
  {
   "cell_type": "code",
   "execution_count": 60,
   "id": "cc86a51c",
   "metadata": {},
   "outputs": [
    {
     "name": "stdout",
     "output_type": "stream",
     "text": [
      "[0, 1, 5, 6, 11]\n"
     ]
    }
   ],
   "source": [
    "#Try to sort that set\n",
    "print(sorted(b_set))"
   ]
  },
  {
   "cell_type": "code",
   "execution_count": 62,
   "id": "ea9d03e0",
   "metadata": {},
   "outputs": [
    {
     "name": "stdout",
     "output_type": "stream",
     "text": [
      "set()\n"
     ]
    }
   ],
   "source": [
    "#clear all the elements from the set\n",
    "b_set.clear()\n",
    "print(b_set)"
   ]
  },
  {
   "cell_type": "code",
   "execution_count": 87,
   "id": "abfaae62",
   "metadata": {},
   "outputs": [
    {
     "name": "stdout",
     "output_type": "stream",
     "text": [
      "{32, 39, 10, 11, 15, 52, 20}\n",
      "{32}\n",
      "{39, 10, 11, 15, 20, 52}\n",
      "{39, 10, 11, 15, 52, 20}\n"
     ]
    }
   ],
   "source": [
    "#create two sets of random numbers and find the union, intersection and difference of the sets(both ways)\n",
    "\n",
    "\n",
    "\n",
    "set1={11,39,52,32}\n",
    "set2={10,20,15,32}\n",
    "set3=set1.union(set2)\n",
    "print(set3)\n",
    "set4=set1.intersection(set2)\n",
    "print(set4)\n",
    "set5=set1.symmetric_difference(set2)\n",
    "print(set5)\n",
    "set6=set2.symmetric_difference(set1)\n",
    "print(set6)"
   ]
  },
  {
   "cell_type": "code",
   "execution_count": 88,
   "id": "7207f846",
   "metadata": {},
   "outputs": [
    {
     "name": "stdout",
     "output_type": "stream",
     "text": [
      "True\n"
     ]
    }
   ],
   "source": [
    "#compare those two sets (commonaltiy)\n",
    "print(set5==set6)"
   ]
  },
  {
   "cell_type": "code",
   "execution_count": 72,
   "id": "2dad8855",
   "metadata": {},
   "outputs": [
    {
     "name": "stdout",
     "output_type": "stream",
     "text": [
      "{35, 72, 49, 21, 91}\n",
      "True\n"
     ]
    }
   ],
   "source": [
    "#Create a list and convert it into a set, now check whether an element is in the set \n",
    "list1=[21,35,49,72,91]\n",
    "set1=set(list1)\n",
    "print(set1)\n",
    "print(49 in set1)\n"
   ]
  },
  {
   "cell_type": "code",
   "execution_count": 73,
   "id": "64382e0c",
   "metadata": {},
   "outputs": [
    {
     "name": "stdout",
     "output_type": "stream",
     "text": [
      "frozenset({10, 20, 21})\n"
     ]
    }
   ],
   "source": [
    "#read about frozen set and create it\n",
    "A={10,20,21,21}\n",
    "c=frozenset(A)\n",
    "print(c)"
   ]
  },
  {
   "cell_type": "code",
   "execution_count": 86,
   "id": "207ddfeb",
   "metadata": {},
   "outputs": [
    {
     "name": "stdout",
     "output_type": "stream",
     "text": [
      "{1, 2, 3}\n"
     ]
    }
   ],
   "source": [
    "#create an empty set and list=[1,2,3] and load these elements into that set in reveres order\n",
    "#venn diagrams\n",
    "\n",
    "list4=[1,2,3]\n",
    "set2=set(list4)\n",
    "set3=sorted(list4, reverse=True)\n",
    "print(set3)"
   ]
  },
  {
   "cell_type": "code",
   "execution_count": null,
   "id": "5034e7e6",
   "metadata": {},
   "outputs": [],
   "source": []
  }
 ],
 "metadata": {
  "kernelspec": {
   "display_name": "Python 3 (ipykernel)",
   "language": "python",
   "name": "python3"
  },
  "language_info": {
   "codemirror_mode": {
    "name": "ipython",
    "version": 3
   },
   "file_extension": ".py",
   "mimetype": "text/x-python",
   "name": "python",
   "nbconvert_exporter": "python",
   "pygments_lexer": "ipython3",
   "version": "3.9.12"
  }
 },
 "nbformat": 4,
 "nbformat_minor": 5
}
