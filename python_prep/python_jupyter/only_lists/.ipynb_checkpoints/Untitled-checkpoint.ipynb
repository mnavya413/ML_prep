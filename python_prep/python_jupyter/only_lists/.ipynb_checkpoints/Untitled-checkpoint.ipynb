{
 "cells": [
  {
   "cell_type": "code",
   "execution_count": 1,
   "id": "76539204",
   "metadata": {},
   "outputs": [],
   "source": [
    "a = {1,2,3,4,5}"
   ]
  },
  {
   "cell_type": "code",
   "execution_count": 4,
   "id": "48ef4917",
   "metadata": {},
   "outputs": [
    {
     "name": "stdout",
     "output_type": "stream",
     "text": [
      "1\n",
      "2\n",
      "3\n",
      "4\n",
      "5\n"
     ]
    }
   ],
   "source": [
    "for i in a:\n",
    "    print(i)"
   ]
  },
  {
   "cell_type": "code",
   "execution_count": 7,
   "id": "bce5d2e2",
   "metadata": {},
   "outputs": [
    {
     "name": "stdout",
     "output_type": "stream",
     "text": [
      "1\n",
      "2\n",
      "3\n",
      "4\n",
      "5\n"
     ]
    }
   ],
   "source": [
    "for _  in a:\n",
    "    print(_)"
   ]
  },
  {
   "cell_type": "code",
   "execution_count": 8,
   "id": "35973e1c",
   "metadata": {},
   "outputs": [
    {
     "name": "stdout",
     "output_type": "stream",
     "text": [
      "5\n"
     ]
    }
   ],
   "source": [
    "print(_)"
   ]
  },
  {
   "cell_type": "code",
   "execution_count": 15,
   "id": "f4cd7890",
   "metadata": {},
   "outputs": [
    {
     "name": "stdout",
     "output_type": "stream",
     "text": [
      "2\n",
      "4\n",
      "6\n",
      "8\n",
      "10\n"
     ]
    }
   ],
   "source": [
    "for i in a:\n",
    "    print(2*i)"
   ]
  },
  {
   "cell_type": "code",
   "execution_count": 13,
   "id": "6916b6ed",
   "metadata": {},
   "outputs": [
    {
     "data": {
      "text/plain": [
       "7"
      ]
     },
     "execution_count": 13,
     "metadata": {},
     "output_type": "execute_result"
    }
   ],
   "source": [
    "# Take a list and print the sum of all the elements in the list\n",
    "# Take a list and check if each number is even or odd\n",
    "# Take this list , for each number if the number is divisible by 2 multiply it by 10 and if not multiply by 15\n",
    "# increase every number in the list by adding 10 \n",
    "# decrease every number by dividing it by 4\n",
    "# for every number print how far is it away from the number\n",
    "# add another number 554 to the list\n",
    "\n",
    "\n"
   ]
  },
  {
   "cell_type": "code",
   "execution_count": 1,
   "id": "964fb501",
   "metadata": {},
   "outputs": [
    {
     "name": "stdout",
     "output_type": "stream",
     "text": [
      "21\n"
     ]
    }
   ],
   "source": [
    "list=[1,2,3,4,5,6]\n",
    "print(sum(list))"
   ]
  },
  {
   "cell_type": "code",
   "execution_count": 7,
   "id": "959dca0b",
   "metadata": {},
   "outputs": [
    {
     "name": "stdout",
     "output_type": "stream",
     "text": [
      "odd\n",
      "even\n",
      "odd\n",
      "even\n",
      "odd\n",
      "even\n"
     ]
    }
   ],
   "source": [
    "list=[1,2,3,4,5,6]\n",
    "x=0\n",
    "for x in list:\n",
    "    if x%2==0:\n",
    "        print(\"even\")\n",
    "    else:\n",
    "        print(\"odd\")"
   ]
  },
  {
   "cell_type": "code",
   "execution_count": 8,
   "id": "2544152c",
   "metadata": {},
   "outputs": [
    {
     "name": "stdout",
     "output_type": "stream",
     "text": [
      "15\n",
      "20\n",
      "45\n",
      "40\n",
      "75\n",
      "60\n"
     ]
    }
   ],
   "source": [
    "x=0\n",
    "for x in list:\n",
    "    if x%2==0:\n",
    "        print(x*10)\n",
    "    else:\n",
    "        print(x*15)"
   ]
  },
  {
   "cell_type": "code",
   "execution_count": 9,
   "id": "ba347fe4",
   "metadata": {},
   "outputs": [
    {
     "name": "stdout",
     "output_type": "stream",
     "text": [
      "11\n",
      "12\n",
      "13\n",
      "14\n",
      "15\n",
      "16\n"
     ]
    }
   ],
   "source": [
    "x=0\n",
    "for x in list:\n",
    "    print(x+10)"
   ]
  },
  {
   "cell_type": "code",
   "execution_count": 10,
   "id": "04593db3",
   "metadata": {},
   "outputs": [
    {
     "name": "stdout",
     "output_type": "stream",
     "text": [
      "0.25\n",
      "0.5\n",
      "0.75\n",
      "1.0\n",
      "1.25\n",
      "1.5\n"
     ]
    }
   ],
   "source": [
    "x=0\n",
    "for x in list:\n",
    "    print(x/4)"
   ]
  },
  {
   "cell_type": "code",
   "execution_count": 12,
   "id": "7fa2de86",
   "metadata": {},
   "outputs": [
    {
     "name": "stdout",
     "output_type": "stream",
     "text": [
      "[1, 2, 3, 4, 5, 6, 554, 554]\n"
     ]
    }
   ],
   "source": [
    "list.append(554)\n",
    "print(list)"
   ]
  },
  {
   "cell_type": "code",
   "execution_count": 14,
   "id": "c65b1e66",
   "metadata": {},
   "outputs": [
    {
     "name": "stdout",
     "output_type": "stream",
     "text": [
      "99\n",
      "98\n",
      "97\n",
      "96\n",
      "95\n",
      "94\n",
      "454\n",
      "454\n"
     ]
    }
   ],
   "source": [
    "x=0\n",
    "for x in list:\n",
    "    print(abs(x-100))"
   ]
  },
  {
   "cell_type": "code",
   "execution_count": null,
   "id": "3a8d457b",
   "metadata": {},
   "outputs": [],
   "source": [
    "1.create a string with name  s=\"America\"\n",
    "2.now make the whole str uppercase, lowercase and capital case\n",
    "3.can you get the first 3  cahracters pf thes string usig sllice method\n",
    "4.can you create a new str with the chaacters at the begginng and  at teh s=end uisng slice and index \n",
    "5.get the index of the character m\n",
    "6.split the str into 2 based on whwere i is\n",
    "#get the count of letters a\n",
    "8.add naother str called united at the end\n",
    "9.add another str united at the begging\n",
    "10.extracyt all the charcyers whose indexes are eeven\n",
    "11.gget the asci valuse of each character of str america\n",
    "#get the sum of the values of all the characyers in america and tell if its even or odd\n",
    "13.replace a letter a with x\n",
    "14.get th second charcetre and last second char and concatenate both\n",
    "15.replace char m with space and now apply the split method without giving paparmetsrs\n"
   ]
  },
  {
   "cell_type": "code",
   "execution_count": 15,
   "id": "da458078",
   "metadata": {},
   "outputs": [
    {
     "name": "stdout",
     "output_type": "stream",
     "text": [
      "America\n"
     ]
    }
   ],
   "source": [
    "s=\"America\"\n",
    "print(s)"
   ]
  },
  {
   "cell_type": "code",
   "execution_count": 21,
   "id": "844d0f57",
   "metadata": {},
   "outputs": [
    {
     "name": "stdout",
     "output_type": "stream",
     "text": [
      "AMERICA\n",
      "america\n",
      "America\n"
     ]
    }
   ],
   "source": [
    "s=\"America\"\n",
    "x=s.upper()\n",
    "print(x)\n",
    "y=s.lower()\n",
    "print(y)\n",
    "b=\"america\"\n",
    "z=b.capitalize()\n",
    "print(z)"
   ]
  },
  {
   "cell_type": "code",
   "execution_count": 23,
   "id": "43fe9b57",
   "metadata": {},
   "outputs": [
    {
     "name": "stdout",
     "output_type": "stream",
     "text": [
      "Ame\n"
     ]
    }
   ],
   "source": [
    "print(s[:3])"
   ]
  },
  {
   "cell_type": "code",
   "execution_count": 25,
   "id": "9cb43487",
   "metadata": {},
   "outputs": [
    {
     "name": "stdout",
     "output_type": "stream",
     "text": [
      "Amca\n"
     ]
    }
   ],
   "source": [
    "y=s[0:2]+s[-2:]\n",
    "print(y)"
   ]
  },
  {
   "cell_type": "code",
   "execution_count": 27,
   "id": "8f357d65",
   "metadata": {},
   "outputs": [
    {
     "data": {
      "text/plain": [
       "1"
      ]
     },
     "execution_count": 27,
     "metadata": {},
     "output_type": "execute_result"
    }
   ],
   "source": [
    "s.index(\"m\")"
   ]
  },
  {
   "cell_type": "code",
   "execution_count": 29,
   "id": "37db3a67",
   "metadata": {},
   "outputs": [
    {
     "data": {
      "text/plain": [
       "['Amer', 'ca']"
      ]
     },
     "execution_count": 29,
     "metadata": {},
     "output_type": "execute_result"
    }
   ],
   "source": [
    "s.split(\"i\")\n"
   ]
  },
  {
   "cell_type": "code",
   "execution_count": 111,
   "id": "2dea2723",
   "metadata": {},
   "outputs": [
    {
     "name": "stdout",
     "output_type": "stream",
     "text": [
      "2\n"
     ]
    }
   ],
   "source": [
    "s=s.lower()\n",
    "print(s.count(\"a\"))"
   ]
  },
  {
   "cell_type": "code",
   "execution_count": 39,
   "id": "dd7626cf",
   "metadata": {},
   "outputs": [
    {
     "name": "stdout",
     "output_type": "stream",
     "text": [
      "America united\n"
     ]
    }
   ],
   "source": [
    "print(s+\" united\")"
   ]
  },
  {
   "cell_type": "code",
   "execution_count": 40,
   "id": "0f4fe915",
   "metadata": {},
   "outputs": [
    {
     "name": "stdout",
     "output_type": "stream",
     "text": [
      "united America\n"
     ]
    }
   ],
   "source": [
    "print(\"united \"+s)"
   ]
  },
  {
   "cell_type": "code",
   "execution_count": 54,
   "id": "8b92ff33",
   "metadata": {},
   "outputs": [
    {
     "name": "stdout",
     "output_type": "stream",
     "text": [
      "A\n",
      "e\n",
      "i\n",
      "a\n"
     ]
    }
   ],
   "source": [
    "\n",
    "for x in range(len(s)):\n",
    "    if x%2==0:\n",
    "        print(s[x])\n",
    "        "
   ]
  },
  {
   "cell_type": "code",
   "execution_count": 64,
   "id": "d2965e00",
   "metadata": {},
   "outputs": [
    {
     "name": "stdout",
     "output_type": "stream",
     "text": [
      "A 65\n",
      "m 109\n",
      "e 101\n",
      "r 114\n",
      "i 105\n",
      "c 99\n",
      "a 97\n"
     ]
    }
   ],
   "source": [
    "s=\"America\"\n",
    "for x in s:\n",
    "    asciii = ord(x)\n",
    "    print(x,asciii)\n",
    "    \n",
    "    "
   ]
  },
  {
   "cell_type": "code",
   "execution_count": 65,
   "id": "f841d33e",
   "metadata": {},
   "outputs": [
    {
     "name": "stdout",
     "output_type": "stream",
     "text": [
      "A 65\n",
      "65\n",
      "m 109\n",
      "174\n",
      "e 101\n",
      "275\n",
      "r 114\n",
      "389\n",
      "i 105\n",
      "494\n",
      "c 99\n",
      "593\n",
      "a 97\n",
      "690\n",
      "690\n"
     ]
    }
   ],
   "source": [
    "y=0\n",
    "for x in s:\n",
    "    print(x, ord(x))\n",
    "    y += ord(x)\n",
    "    print(y)\n",
    "print(y)"
   ]
  },
  {
   "cell_type": "code",
   "execution_count": 117,
   "id": "327a5347",
   "metadata": {},
   "outputs": [
    {
     "name": "stdout",
     "output_type": "stream",
     "text": [
      "a 97\n",
      "m 109\n",
      "e 101\n",
      "r 114\n",
      "i 105\n",
      "c 99\n",
      "a 97\n",
      "722\n"
     ]
    }
   ],
   "source": [
    "y=0\n",
    "for x in range(len(s)):\n",
    "    print(s[x], ord(s[x]))\n",
    "    y += ord(s[x])\n",
    "print(y)"
   ]
  },
  {
   "cell_type": "code",
   "execution_count": 97,
   "id": "27e66527",
   "metadata": {},
   "outputs": [
    {
     "name": "stdout",
     "output_type": "stream",
     "text": [
      "Americx\n"
     ]
    }
   ],
   "source": [
    "print(s.replace(\"a\",\"x\"))"
   ]
  },
  {
   "cell_type": "code",
   "execution_count": 68,
   "id": "c3ddf82a",
   "metadata": {},
   "outputs": [
    {
     "name": "stdout",
     "output_type": "stream",
     "text": [
      "Aherica\n"
     ]
    }
   ],
   "source": [
    "s=s.replace(\"m\",\"h\")\n",
    "print(s)"
   ]
  },
  {
   "cell_type": "code",
   "execution_count": 69,
   "id": "b929ae1e",
   "metadata": {},
   "outputs": [
    {
     "name": "stdout",
     "output_type": "stream",
     "text": [
      "hc\n"
     ]
    }
   ],
   "source": [
    "print(s[1]+s[-2])"
   ]
  },
  {
   "cell_type": "code",
   "execution_count": 74,
   "id": "53cb3d99",
   "metadata": {},
   "outputs": [
    {
     "name": "stdout",
     "output_type": "stream",
     "text": [
      "['A', 'erica']\n",
      "['A', 'erica']\n"
     ]
    }
   ],
   "source": [
    "#print(s.replace(\"h\",\" \"))\n",
    "s=s.replace(\"m\",\" \")\n",
    "print(s.split(\" \"))\n",
    "print(s.split())\n"
   ]
  },
  {
   "cell_type": "code",
   "execution_count": 75,
   "id": "fce65f95",
   "metadata": {},
   "outputs": [
    {
     "name": "stdout",
     "output_type": "stream",
     "text": [
      "['A ', 'rica']\n",
      "['A', 'erica']\n"
     ]
    }
   ],
   "source": [
    "print(s.split(\"e\"))\n",
    "print(s.split())\n"
   ]
  },
  {
   "cell_type": "code",
   "execution_count": 76,
   "id": "f01e0b4d",
   "metadata": {},
   "outputs": [
    {
     "data": {
      "text/plain": [
       "'A erica'"
      ]
     },
     "execution_count": 76,
     "metadata": {},
     "output_type": "execute_result"
    }
   ],
   "source": [
    "s"
   ]
  },
  {
   "cell_type": "code",
   "execution_count": 13,
   "id": "565a2a45",
   "metadata": {},
   "outputs": [
    {
     "data": {
      "text/plain": [
       "15"
      ]
     },
     "execution_count": 13,
     "metadata": {},
     "output_type": "execute_result"
    }
   ],
   "source": [
    "#Create a fiction that takes a list and returns the sum of the all the elements except the last element. \n",
    "def my_function(result):\n",
    "    list=[1,2,3,4,5,6]\n",
    "    result=sum(list[0:5])\n",
    "    return result\n",
    "my_function(list)\n"
   ]
  },
  {
   "cell_type": "code",
   "execution_count": 90,
   "id": "26f04098",
   "metadata": {},
   "outputs": [],
   "source": [
    "n=25"
   ]
  },
  {
   "cell_type": "code",
   "execution_count": 92,
   "id": "b6c6cd28",
   "metadata": {},
   "outputs": [
    {
     "name": "stdout",
     "output_type": "stream",
     "text": [
      "2\n"
     ]
    },
    {
     "data": {
      "text/plain": [
       "'even'"
      ]
     },
     "execution_count": 92,
     "metadata": {},
     "output_type": "execute_result"
    }
   ],
   "source": [
    "#Create a function that returns whether the give number is even or odd\n",
    "def odd_even(number):\n",
    "    check=int(input())\n",
    "    if check%2==0:\n",
    "        return \"even\"\n",
    "    else:\n",
    "        return \"odd\"\n",
    "odd_even(1)\n"
   ]
  },
  {
   "cell_type": "code",
   "execution_count": 46,
   "id": "d8c60dec",
   "metadata": {},
   "outputs": [
    {
     "name": "stdout",
     "output_type": "stream",
     "text": [
      "l1: [2, 4, 6, 8, 10]\n",
      "l2: [1, 3, 5, 7, 9]\n"
     ]
    }
   ],
   "source": [
    "#Create a function that takes in a list and returns two lists — one with even numbers and one with odd numbers from the original list.\n",
    "def original_list(list):\n",
    "    a_list=[1,2,3,4,5,6,7,8,9,10]\n",
    "    l1 = []\n",
    "    l2 = []\n",
    "    for x in a_list:\n",
    "        if x%2==0:\n",
    "             l1.append(x)\n",
    "        else:\n",
    "             l2.append(x)\n",
    "    print(\"l1:\", l1)\n",
    "    print(\"l2:\", l2)\n",
    "    \n",
    "\n",
    "\n",
    "original_list(list)"
   ]
  },
  {
   "cell_type": "code",
   "execution_count": 79,
   "id": "175a2bae",
   "metadata": {},
   "outputs": [
    {
     "name": "stdout",
     "output_type": "stream",
     "text": [
      "The new list is: [1, 2, 3, 4, 6, 7]\n"
     ]
    }
   ],
   "source": [
    "def no_duplicates(list):\n",
    "    a_list=[1,2,3,4,3,2,6,7]\n",
    "    l1 = []\n",
    "    \n",
    "    for x in a_list:\n",
    "        if x not in l1:\n",
    "            l1.append(x)\n",
    "     \n",
    "    print(\"The new list is:\", l1)\n",
    "\n",
    "no_duplicates(list)    "
   ]
  },
  {
   "cell_type": "code",
   "execution_count": 81,
   "id": "178a39c4",
   "metadata": {},
   "outputs": [
    {
     "data": {
      "text/plain": [
       "2"
      ]
     },
     "execution_count": 81,
     "metadata": {},
     "output_type": "execute_result"
    }
   ],
   "source": [
    "a_list=[1,2,3,4,3,2,6,7]\n",
    "a_list.count(3)\n"
   ]
  },
  {
   "cell_type": "code",
   "execution_count": 78,
   "id": "2276931d",
   "metadata": {},
   "outputs": [
    {
     "data": {
      "text/plain": [
       "{1, 2, 3, 4, 6, 7}"
      ]
     },
     "execution_count": 78,
     "metadata": {},
     "output_type": "execute_result"
    }
   ],
   "source": [
    "set(a_list)"
   ]
  },
  {
   "cell_type": "code",
   "execution_count": 80,
   "id": "f01f9c72",
   "metadata": {},
   "outputs": [
    {
     "ename": "SyntaxError",
     "evalue": "invalid syntax (591606871.py, line 1)",
     "output_type": "error",
     "traceback": [
      "\u001b[1;36m  Cell \u001b[1;32mIn [80], line 1\u001b[1;36m\u001b[0m\n\u001b[1;33m    Create a function that takes in a list and returns a list in which each element is equal to the element and it’s index value\u001b[0m\n\u001b[1;37m           ^\u001b[0m\n\u001b[1;31mSyntaxError\u001b[0m\u001b[1;31m:\u001b[0m invalid syntax\n"
     ]
    }
   ],
   "source": [
    "Create a function that takes in a list and returns a list in which each element is equal to the  sum of the element and it’s index value\n",
    "Create a function that takes in a list and returns a list in which each element is equal to the element and it’s index value\n",
    "reate a function that takes in a list and produces a new list in which each element is equal to the element multiplied by its index value.\n",
    "Create a function that takes in a list and returns a list in which each element is equal to sum of the element and it’s count value in the list\n",
    "Create a function that takes in a list and returns the sum of all elements after each of them  are inverted and multiplied by 3\n",
    "Create a function that takes in a list and returns the list of reminders related to  each element, when that element is divided by the 7.\n",
    "Create a function that takes in a list of elements such that each element is a 2 digit number. \n",
    "\n",
    " This function should  return a list with the same number of elements  but the Digits in each element are reversed \n",
    "\n",
    "Ex—\n",
    "Input —  [23, 56] \n",
    "Returns — [32, 65]"
   ]
  },
  {
   "cell_type": "code",
   "execution_count": 103,
   "id": "274d6ef1",
   "metadata": {},
   "outputs": [],
   "source": [
    "def divideby_7(given_list):\n",
    "    \n",
    "    result_list=[]\n",
    "    for x in given_list:\n",
    "         #result_list.append(x%7)\n",
    "        temp_x=x%7\n",
    "        result_list.append(temp_x)\n",
    "    return result_list\n",
    "    \n",
    "            "
   ]
  },
  {
   "cell_type": "code",
   "execution_count": 104,
   "id": "602f248e",
   "metadata": {},
   "outputs": [
    {
     "data": {
      "text/plain": [
       "[1, 0, 0]"
      ]
     },
     "execution_count": 104,
     "metadata": {},
     "output_type": "execute_result"
    }
   ],
   "source": [
    "divideby_7([78,56,49])"
   ]
  },
  {
   "cell_type": "code",
   "execution_count": 44,
   "id": "a0826937",
   "metadata": {},
   "outputs": [
    {
     "data": {
      "text/plain": [
       "[0, 45, 134, 267, 256]"
      ]
     },
     "execution_count": 44,
     "metadata": {},
     "output_type": "execute_result"
    }
   ],
   "source": [
    "def my_function(i):\n",
    "    result = []\n",
    "    for x in range(len(i)):\n",
    "        result.append(x*i[x])\n",
    "    return result\n",
    "    \n",
    "a_list=[23,45,67,89,64]    \n",
    "my_function(a_list)"
   ]
  },
  {
   "cell_type": "code",
   "execution_count": 41,
   "id": "7dcfc626",
   "metadata": {},
   "outputs": [
    {
     "data": {
      "text/plain": [
       "2.1306122448979594"
      ]
     },
     "execution_count": 41,
     "metadata": {},
     "output_type": "execute_result"
    }
   ],
   "source": [
    "def my_function(i):\n",
    "    result=0\n",
    "    for x in i:\n",
    "        result += (1/x)*3\n",
    "    return result\n",
    "        \n",
    "        \n",
    "    \n",
    "alist=[3,5,6,98]    \n",
    "my_function(alist)"
   ]
  },
  {
   "cell_type": "code",
   "execution_count": 46,
   "id": "1d843262",
   "metadata": {},
   "outputs": [
    {
     "data": {
      "text/plain": [
       "[4, 6, 9, 12, 14]"
      ]
     },
     "execution_count": 46,
     "metadata": {},
     "output_type": "execute_result"
    }
   ],
   "source": [
    "def my_function(i):\n",
    "    result=[]\n",
    "    for x in range(len(i)):\n",
    "        result.append(x+i[x])\n",
    "    return result\n",
    "alist=[4,5,7,9,10]\n",
    "my_function(alist)\n",
    "        "
   ]
  },
  {
   "cell_type": "code",
   "execution_count": 51,
   "id": "ee296c86",
   "metadata": {},
   "outputs": [
    {
     "data": {
      "text/plain": [
       "[5, 7, 9, 10, 7, 9, 11]"
      ]
     },
     "execution_count": 51,
     "metadata": {},
     "output_type": "execute_result"
    }
   ],
   "source": [
    "def my_function(i):\n",
    "    result=[]\n",
    "    for x in i:\n",
    "        result.append(x+i.count(x))\n",
    "    return result\n",
    "\n",
    "alist=[4,5,7,9,5,7,10]\n",
    "my_function(alist)"
   ]
  },
  {
   "cell_type": "code",
   "execution_count": null,
   "id": "64c0cfc8",
   "metadata": {},
   "outputs": [],
   "source": []
  },
  {
   "cell_type": "code",
   "execution_count": 74,
   "id": "194dab25",
   "metadata": {},
   "outputs": [
    {
     "data": {
      "text/plain": [
       "11"
      ]
     },
     "execution_count": 74,
     "metadata": {},
     "output_type": "execute_result"
    }
   ],
   "source": [
    "def my_function(i):\n",
    "    result=0\n",
    "    for x in str(i):   \n",
    "        result += int(x)\n",
    "    return result\n",
    "\n",
    "alist=56\n",
    "my_function(alist)"
   ]
  },
  {
   "cell_type": "code",
   "execution_count": 86,
   "id": "c0d50b6a",
   "metadata": {},
   "outputs": [
    {
     "data": {
      "text/plain": [
       "65"
      ]
     },
     "execution_count": 86,
     "metadata": {},
     "output_type": "execute_result"
    }
   ],
   "source": [
    "def my_function(x):\n",
    "    result=0\n",
    "    while x>0:\n",
    "        temp=x%10\n",
    "        result=result*10+temp\n",
    "        x=x//10\n",
    "    return result\n",
    "\n",
    "my_function(56)"
   ]
  },
  {
   "cell_type": "code",
   "execution_count": 88,
   "id": "1d003310",
   "metadata": {},
   "outputs": [
    {
     "name": "stdout",
     "output_type": "stream",
     "text": [
      "8546\n",
      "6458\n"
     ]
    }
   ],
   "source": [
    "n=int(input())\n",
    "print(str(n)[::-1])"
   ]
  },
  {
   "cell_type": "code",
   "execution_count": 45,
   "id": "e69d9d11",
   "metadata": {},
   "outputs": [
    {
     "ename": "SyntaxError",
     "evalue": "invalid syntax (1721418698.py, line 1)",
     "output_type": "error",
     "traceback": [
      "\u001b[1;36m  Cell \u001b[1;32mIn [45], line 1\u001b[1;36m\u001b[0m\n\u001b[1;33m    takes a numver which returns the sum of those 2 digits 63=9\u001b[0m\n\u001b[1;37m          ^\u001b[0m\n\u001b[1;31mSyntaxError\u001b[0m\u001b[1;31m:\u001b[0m invalid syntax\n"
     ]
    }
   ],
   "source": [
    "takes a numver which returns the sum of those 2 digits 63=9"
   ]
  },
  {
   "cell_type": "markdown",
   "id": "23649c60",
   "metadata": {},
   "source": []
  }
 ],
 "metadata": {
  "kernelspec": {
   "display_name": "Python 3 (ipykernel)",
   "language": "python",
   "name": "python3"
  },
  "language_info": {
   "codemirror_mode": {
    "name": "ipython",
    "version": 3
   },
   "file_extension": ".py",
   "mimetype": "text/x-python",
   "name": "python",
   "nbconvert_exporter": "python",
   "pygments_lexer": "ipython3",
   "version": "3.9.12"
  }
 },
 "nbformat": 4,
 "nbformat_minor": 5
}
