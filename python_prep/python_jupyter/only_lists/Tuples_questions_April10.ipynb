{
 "cells": [
  {
   "cell_type": "code",
   "execution_count": null,
   "id": "b1ebe1c8",
   "metadata": {},
   "outputs": [],
   "source": [
    "Create a tuple with 5 numbers and then add 2 more elements at the end\n",
    "Add 3 elements which are already present in the tuple\n",
    "remove the duplicates ou of the whole list\n",
    "get the memory location of this tuple m1\n",
    "remove last element from this tuple and call it t2\n",
    "get the memory location of t2\n",
    "compare this with m1\n",
    "iterate over the tuple and find the cube root of all the numbers in the tuple\n",
    "take  alist and convert it into a tuple and then into a set and \n",
    "create another set from this set such that each element is equal to the cube of the elements of the set, \n",
    "and create a dictionary with list values as keys and cubes values from the last set as values\n",
    "create a tuple with only one element and create another tuple with 3 elements and concatenate them\n",
    "take a tuple and create a dictionary such that the elements in the tuples as keys and their square roots as values\n",
    "Take a tuple of 6 eleemnts and create 3 tuples such that elements are consequtive elements and use slice\n",
    "take a tuple and find the harmonic mean of the  min, max and len of the tuple\n",
    "Take a tuple of 2 elements and assign it 2 variables and swap them\n",
    "take a tuple of 3 elements and convert it into a string\n",
    "take a  tuple of 4 elememts and find the sum of the indexes of 2nd and 3rd element\n",
    "take a tuple of 5 elements with duplicates and find the count of 1 duplicated value\n",
    "Take 2 tuples of equal lengths but of different elements and then compare whether those tupleas are equal\n",
    "Take a list of 4  elements and convert into a tuple and a set\n",
    "now find the memories of all the three and compare which has the highest"
   ]
  },
  {
   "cell_type": "code",
   "execution_count": 2,
   "id": "0e0738c0",
   "metadata": {},
   "outputs": [
    {
     "name": "stdout",
     "output_type": "stream",
     "text": [
      "(1, 2, 3, 4, 5, 6, 7)\n"
     ]
    }
   ],
   "source": [
    "#Create a tuple with 5 numbers and then add 2 more elements at the end\n",
    "this_tuple=(1,2,3,4,5)\n",
    "tuple_1=(6,7)\n",
    "this_tuple += tuple_1\n",
    "print(this_tuple)"
   ]
  },
  {
   "cell_type": "code",
   "execution_count": 12,
   "id": "38d9322f",
   "metadata": {},
   "outputs": [
    {
     "name": "stdout",
     "output_type": "stream",
     "text": [
      "[1, 2, 3, 4, 5, 6, 7, 2, 3, 2, 3, 1, 2, 3, 1, 2, 3, 1]\n",
      "(1, 2, 3, 4, 5, 6, 7, 2, 3, 2, 3, 1, 2, 3, 1, 2, 3, 1, 2, 3)\n"
     ]
    }
   ],
   "source": [
    "#Add 3 elements which are already present in the tuple\n",
    "a=list(this_tuple)\n",
    "a.append(1)\n",
    "print(a)\n",
    "b=(1,2,3)\n",
    "this_tuple += b\n",
    "print(this_tuple)"
   ]
  },
  {
   "cell_type": "code",
   "execution_count": 17,
   "id": "8b5a32fe",
   "metadata": {},
   "outputs": [
    {
     "name": "stdout",
     "output_type": "stream",
     "text": [
      "(1, 2, 3, 4, 5, 6, 7)\n"
     ]
    }
   ],
   "source": [
    "#remove the duplicates ou of the whole list\n",
    "c=tuple(set(this_tuple))\n",
    "print(c)"
   ]
  },
  {
   "cell_type": "code",
   "execution_count": 21,
   "id": "99ed153f",
   "metadata": {},
   "outputs": [
    {
     "name": "stdout",
     "output_type": "stream",
     "text": [
      "1468095609632\n"
     ]
    }
   ],
   "source": [
    "#get the memory location of this tuple m1\n",
    "m1=id(c)\n",
    "print(m1)"
   ]
  },
  {
   "cell_type": "code",
   "execution_count": 22,
   "id": "a6d5008d",
   "metadata": {},
   "outputs": [
    {
     "name": "stdout",
     "output_type": "stream",
     "text": [
      "[1, 2, 3, 4, 5, 6]\n"
     ]
    }
   ],
   "source": [
    "#remove last element from this tuple and call it t2\n",
    "e=list(c)\n",
    "e.remove(7)\n",
    "print(e)"
   ]
  },
  {
   "cell_type": "code",
   "execution_count": 23,
   "id": "df355689",
   "metadata": {},
   "outputs": [
    {
     "name": "stdout",
     "output_type": "stream",
     "text": [
      "1468142553408\n"
     ]
    }
   ],
   "source": [
    "#get the memory location of t2\n",
    "m2=id(e)\n",
    "print(m2)"
   ]
  },
  {
   "cell_type": "code",
   "execution_count": 24,
   "id": "146dd4bd",
   "metadata": {},
   "outputs": [
    {
     "name": "stdout",
     "output_type": "stream",
     "text": [
      "False\n"
     ]
    }
   ],
   "source": [
    "#compare this with m1\n",
    "print(m1==m2)"
   ]
  },
  {
   "cell_type": "code",
   "execution_count": 14,
   "id": "d0552756",
   "metadata": {},
   "outputs": [
    {
     "name": "stdout",
     "output_type": "stream",
     "text": [
      "[1, 8, 27, 64, 125, 216]\n",
      "(1, 8, 27, 64, 125, 216)\n"
     ]
    }
   ],
   "source": [
    "#iterate over the tuple and find the cube root of all the numbers in the tuple\n",
    "this_tuple=(1,2,3,4,5,6)\n",
    "\n",
    "res=[]\n",
    "for x in this_tuple:\n",
    "     \n",
    "     res.append(x**3)\n",
    "\n",
    "y=tuple(res)\n",
    "print(y)\n",
    "     \n",
    "\n",
    "    \n"
   ]
  },
  {
   "cell_type": "code",
   "execution_count": 10,
   "id": "4fad92a7",
   "metadata": {},
   "outputs": [
    {
     "name": "stdout",
     "output_type": "stream",
     "text": [
      "(1, 2, 3, 4, 5, 6, 7)\n",
      "{1, 2, 3, 4, 5, 6, 7}\n"
     ]
    }
   ],
   "source": [
    "#take  alist and convert it into a tuple and then into a set and \n",
    "a_list=[1,2,3,4,5,6,7]\n",
    "b_tuple=tuple(a_list)\n",
    "print(b_tuple)\n",
    "c_set=set(b_tuple)\n",
    "print(c_set)"
   ]
  },
  {
   "cell_type": "code",
   "execution_count": 15,
   "id": "270fbdbb",
   "metadata": {},
   "outputs": [
    {
     "name": "stdout",
     "output_type": "stream",
     "text": [
      "{64, 1, 8, 343, 216, 27, 125}\n"
     ]
    }
   ],
   "source": [
    "#create another set from this set such that each element is equal to the cube of the elements of the set, \n",
    "res=[]\n",
    "for x in c_set:\n",
    "     \n",
    "     res.append(x**3)\n",
    "\n",
    "y=set(res)\n",
    "print(y)"
   ]
  },
  {
   "cell_type": "code",
   "execution_count": 17,
   "id": "c5e6b96d",
   "metadata": {},
   "outputs": [
    {
     "name": "stdout",
     "output_type": "stream",
     "text": [
      "{1: 64, 2: 1, 3: 8, 4: 343, 5: 216, 6: 27, 7: 125}\n"
     ]
    }
   ],
   "source": [
    "#create a dictionary with list values as keys and cubes values from the last set as values\n",
    "a_list=[1,2,3,4,5,6,7]\n",
    "a_dict=dict(zip(a_list,y))\n",
    "print(a_dict)"
   ]
  },
  {
   "cell_type": "code",
   "execution_count": 20,
   "id": "a5490dd7",
   "metadata": {},
   "outputs": [
    {
     "name": "stdout",
     "output_type": "stream",
     "text": [
      "(1, 4, 2, 3)\n"
     ]
    }
   ],
   "source": [
    "#create a tuple with only one element and create another tuple with 3 elements and concatenate them\n",
    "b_tuple=(1,)\n",
    "c_tuple=(4,2,3)\n",
    "b_tuple += c_tuple\n",
    "print(b_tuple)"
   ]
  },
  {
   "cell_type": "code",
   "execution_count": 21,
   "id": "8fc80d1f",
   "metadata": {},
   "outputs": [
    {
     "name": "stdout",
     "output_type": "stream",
     "text": [
      "{2: 4, 3: 9, 4: 16, 5: 25, 6: 36, 7: 49}\n"
     ]
    }
   ],
   "source": [
    "#take a tuple and create a dictionary such that the elements in the tuples as keys and their square roots as values\n",
    "a_tuple=(2,3,4,5,6,7)\n",
    "res=[]\n",
    "for x in a_tuple:\n",
    "    res.append(x**2)\n",
    "y=tuple(res)\n",
    "z=dict(zip(a_tuple,y))\n",
    "print(z)\n",
    "    \n"
   ]
  },
  {
   "cell_type": "code",
   "execution_count": 29,
   "id": "58f75843",
   "metadata": {},
   "outputs": [
    {
     "name": "stdout",
     "output_type": "stream",
     "text": [
      "(1, 2, 3)\n",
      "(4, 5)\n",
      "(6, 7)\n"
     ]
    }
   ],
   "source": [
    "#Take a tuple of 6 eleemnts and create 3 tuples such that elements are consequtive elements and use slice\n",
    "a_tuple=(1,2,3,4,5,6,7)\n",
    "s=slice(0,3)\n",
    "print(a_tuple[s])\n",
    "s=slice(3,5)\n",
    "print(a_tuple[s])\n",
    "s=slice(5,7)\n",
    "print(a_tuple[s])"
   ]
  },
  {
   "cell_type": "code",
   "execution_count": 33,
   "id": "0f561f11",
   "metadata": {},
   "outputs": [
    {
     "name": "stdout",
     "output_type": "stream",
     "text": [
      "6.533333333333333\n"
     ]
    }
   ],
   "source": [
    "#take a tuple and find the harmonic mean of the  min, max and len of the tuple\n",
    "length=len(a_tuple)\n",
    "minimum=min(a_tuple)\n",
    "maximum=max(a_tuple)\n",
    "harmonic_mean=2*length*minimum*maximum/(length+minimum+maximum)\n",
    "print(harmonic_mean)"
   ]
  },
  {
   "cell_type": "code",
   "execution_count": 35,
   "id": "07534921",
   "metadata": {},
   "outputs": [
    {
     "name": "stdout",
     "output_type": "stream",
     "text": [
      "(9, 0) (8, 7)\n",
      "(8, 7) (9, 0)\n"
     ]
    }
   ],
   "source": [
    "#Take a tuple of 2 elements and assign it 2 variables and swap them\n",
    "a=(9,0)\n",
    "b=(8,7)\n",
    "print(a,b)\n",
    "a,b=b,a\n",
    "print(a,b)"
   ]
  },
  {
   "cell_type": "code",
   "execution_count": 37,
   "id": "ac63c980",
   "metadata": {},
   "outputs": [
    {
     "name": "stdout",
     "output_type": "stream",
     "text": [
      "badapp\n"
     ]
    }
   ],
   "source": [
    "#take a tuple of 3 elements and convert it into a string\n",
    "tuple_1=(\"b\",\"a\",\"d\",\"a\",\"p\",\"p\")\n",
    "s=''.join(tuple_1)\n",
    "print(s)"
   ]
  },
  {
   "cell_type": "code",
   "execution_count": 38,
   "id": "1168d078",
   "metadata": {},
   "outputs": [
    {
     "name": "stdout",
     "output_type": "stream",
     "text": [
      "11\n"
     ]
    }
   ],
   "source": [
    "#take a  tuple of 4 elememts and find the sum of the indexes of 2nd and 3rd element\n",
    "tuple_2=(4,5,6,7)\n",
    "c=tuple_2[1]+tuple_2[2]\n",
    "print(c)"
   ]
  },
  {
   "cell_type": "code",
   "execution_count": 40,
   "id": "79742404",
   "metadata": {},
   "outputs": [
    {
     "name": "stdout",
     "output_type": "stream",
     "text": [
      "2\n"
     ]
    }
   ],
   "source": [
    "#take a tuple of 5 elements with duplicates and find the count of 1 duplicated value\n",
    "tuple_2=(9,9,0,1,2,1)\n",
    "s=tuple_2.count(9)\n",
    "print(s)"
   ]
  },
  {
   "cell_type": "code",
   "execution_count": 42,
   "id": "ae70ed29",
   "metadata": {},
   "outputs": [
    {
     "name": "stdout",
     "output_type": "stream",
     "text": [
      "True\n",
      "False\n"
     ]
    }
   ],
   "source": [
    "#Take 2 tuples of equal lengths but of different elements and then compare whether those tupleas are equal\n",
    "tuple_3=(6,7,8)\n",
    "tuple_4=(3,4,5)\n",
    "a=len(tuple_3)\n",
    "b=len(tuple_4)\n",
    "print(a==b)\n",
    "print(tuple_3==tuple_4)"
   ]
  },
  {
   "cell_type": "code",
   "execution_count": 44,
   "id": "a634b4c0",
   "metadata": {},
   "outputs": [
    {
     "name": "stdout",
     "output_type": "stream",
     "text": [
      "(1, 2, 3, 4)\n",
      "{1, 2, 3, 4}\n"
     ]
    }
   ],
   "source": [
    "#Take a list of 4  elements and convert into a tuple and a set\n",
    "list1=[1,2,3,4]\n",
    "tuple1=tuple(list1)\n",
    "print(tuple1)\n",
    "set1=set(list1)\n",
    "print(set1)"
   ]
  },
  {
   "cell_type": "code",
   "execution_count": 49,
   "id": "6366c00b",
   "metadata": {},
   "outputs": [
    {
     "name": "stdout",
     "output_type": "stream",
     "text": [
      "2136353734976\n",
      "2136354349120\n",
      "2136353985296\n"
     ]
    },
    {
     "data": {
      "text/plain": [
       "2136354349120"
      ]
     },
     "execution_count": 49,
     "metadata": {},
     "output_type": "execute_result"
    }
   ],
   "source": [
    "#now find the memories of all the three and compare which has the highest\n",
    "l=id(list1)\n",
    "print(l)\n",
    "s=id(set1)\n",
    "print(s)\n",
    "t=id(tuple1)\n",
    "print(t)\n",
    "list1=[l,s,t]\n",
    "def max_function(list1):\n",
    "    return max(list1)\n",
    "max_function(list1)        "
   ]
  },
  {
   "cell_type": "code",
   "execution_count": null,
   "id": "5be05e95",
   "metadata": {},
   "outputs": [],
   "source": []
  }
 ],
 "metadata": {
  "kernelspec": {
   "display_name": "Python 3 (ipykernel)",
   "language": "python",
   "name": "python3"
  },
  "language_info": {
   "codemirror_mode": {
    "name": "ipython",
    "version": 3
   },
   "file_extension": ".py",
   "mimetype": "text/x-python",
   "name": "python",
   "nbconvert_exporter": "python",
   "pygments_lexer": "ipython3",
   "version": "3.9.12"
  }
 },
 "nbformat": 4,
 "nbformat_minor": 5
}
