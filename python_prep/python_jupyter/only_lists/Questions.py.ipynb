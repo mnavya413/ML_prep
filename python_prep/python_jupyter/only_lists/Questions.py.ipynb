{
 "cells": [
  {
   "cell_type": "code",
   "execution_count": 10,
   "id": "ac670a93",
   "metadata": {},
   "outputs": [
    {
     "name": "stdout",
     "output_type": "stream",
     "text": [
      "1 2 3 4 5\n",
      "6 7 8 9 10\n",
      "[6, 14, 24, 36, 50]\n"
     ]
    }
   ],
   "source": [
    "# write a func that takes 2 lists and provides the product of coressponding elements as a new list and\n",
    "def multiply_two_lists(a, b):\n",
    "    length = len(a)\n",
    "    result = []\n",
    "    for i in range(length):\n",
    "        result.append(a[i]*b[i])\n",
    "    return result\n",
    "\n",
    "\n",
    "l1 = list(map(int, input().rstrip().split()))\n",
    "l2 = list(map(int, input().rstrip().split()))\n",
    "\n",
    "c=multiply_two_lists(l1,l2)\n",
    "print(c)\n",
    "\n",
    "# call the new list as c, get square root of elemnsts in C and then multiply those 3 square rrots and then find the 8th  power of that product\n",
    "# write a function that takes in list and another eleemnt and check how many eleelmnts in the list are > than this element\n",
    "# write a function that takes a list as an input , now create another list that is formed out of the min and max of the list\n",
    "# remove those min and max out of the 1st list and create another list such that the elements= len of 1st, len of 2nd ,max of 1st and max of 2nd list\n",
    "# take a function that takes tuples and sets and list as inputs and create 3 diff lists which contain min element , max and avg elements of the list, sets and tuples\n",
    "# give the inverse of the above list and combining  into a new list\n",
    "# create a list of lists where the inner list should be 1,2,3, and the other 4,5,6 and the other 7,8,9\n",
    "# get the len of bigger and smaller list\n",
    "# call the bigger list as biglist, smaller list as small list l1, l2 and l3\n",
    "# using indexes get the second element of the second list\n",
    "# reverse the second small list\n",
    "#  get the sum of the maps of each sub list\n"
   ]
  },
  {
   "cell_type": "code",
   "execution_count": null,
   "id": "f41a2245",
   "metadata": {},
   "outputs": [],
   "source": [
    "# call the new list as c, get square root of elemnsts in C and then multiply those 3 square rrots and then find the 8th  power of that product\n"
   ]
  }
 ],
 "metadata": {
  "kernelspec": {
   "display_name": "Python 3 (ipykernel)",
   "language": "python",
   "name": "python3"
  },
  "language_info": {
   "codemirror_mode": {
    "name": "ipython",
    "version": 3
   },
   "file_extension": ".py",
   "mimetype": "text/x-python",
   "name": "python",
   "nbconvert_exporter": "python",
   "pygments_lexer": "ipython3",
   "version": "3.9.12"
  }
 },
 "nbformat": 4,
 "nbformat_minor": 5
}
