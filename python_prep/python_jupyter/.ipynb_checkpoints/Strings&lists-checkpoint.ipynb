{
 "cells": [
  {
   "cell_type": "code",
   "execution_count": 1,
   "id": "826bd509",
   "metadata": {},
   "outputs": [
    {
     "name": "stdout",
     "output_type": "stream",
     "text": [
      "America is a country\n"
     ]
    }
   ],
   "source": [
    "# Take a string \"America is a country\"\n",
    "\n",
    "\n",
    "s = \"America is a country\"\n",
    "print(s)\n",
    "\n"
   ]
  },
  {
   "cell_type": "code",
   "execution_count": 2,
   "id": "432fd6dc",
   "metadata": {},
   "outputs": [
    {
     "name": "stdout",
     "output_type": "stream",
     "text": [
      "20\n"
     ]
    }
   ],
   "source": [
    "# get the length of the String\n",
    "T = len(s)\n",
    "print(T)\n",
    "\n"
   ]
  },
  {
   "cell_type": "code",
   "execution_count": 3,
   "id": "8b407f8f",
   "metadata": {},
   "outputs": [
    {
     "name": "stdout",
     "output_type": "stream",
     "text": [
      "america is a country\n"
     ]
    }
   ],
   "source": [
    "# Casefold it\n",
    "x = s.casefold()\n",
    "print(x)\n"
   ]
  },
  {
   "cell_type": "code",
   "execution_count": 4,
   "id": "e6f095ce",
   "metadata": {},
   "outputs": [
    {
     "name": "stdout",
     "output_type": "stream",
     "text": [
      "america is a country\n"
     ]
    }
   ],
   "source": [
    "# convert into lowercase\n",
    "y = s.lower()\n",
    "print(y)\n"
   ]
  },
  {
   "cell_type": "code",
   "execution_count": 5,
   "id": "de256082",
   "metadata": {},
   "outputs": [
    {
     "name": "stdout",
     "output_type": "stream",
     "text": [
      "3\n"
     ]
    }
   ],
   "source": [
    "# get the number of a's\n",
    "z = y.count(\"a\")\n",
    "print(z)\n",
    "\n"
   ]
  },
  {
   "cell_type": "code",
   "execution_count": 6,
   "id": "cea85c75",
   "metadata": {},
   "outputs": [
    {
     "name": "stdout",
     "output_type": "stream",
     "text": [
      "8\n",
      "America&is&a&country\n",
      "1891\n"
     ]
    }
   ],
   "source": [
    "# get the number of vowels in it\n",
    "c=0\n",
    "vowel=\"AEIOUaeiou\"\n",
    "for i in s:\n",
    " if i in vowel:\n",
    "  c+=1\n",
    "print(c)\n",
    "\n",
    "\n",
    "\n",
    "\n",
    "# replace space with \"&\"\n",
    "new_string = s.replace(' ', '&')\n",
    "print(new_string)\n",
    "\n",
    "# get the sum of ascii numbers of every charcter\n",
    "c = 0\n",
    "for i in range(len(s)):\n",
    "    (s[i], ord(s[i]))\n",
    "    c += ord(s[i])\n",
    "print(c)\n",
    "\n",
    "\n"
   ]
  },
  {
   "cell_type": "code",
   "execution_count": 7,
   "id": "a6770b50",
   "metadata": {},
   "outputs": [
    {
     "name": "stdout",
     "output_type": "stream",
     "text": [
      "enter a number:523\n",
      "odd\n",
      "325\n",
      "not divisible\n",
      "yrtnuoc a si aciremA\n"
     ]
    }
   ],
   "source": [
    "# check if that number is even or odd\n",
    "a=int(input(\"enter a number:\"))\n",
    "if a%2==0:\n",
    "    print(\"even\")\n",
    "else:\n",
    "    print(\"odd\")\n",
    "\n",
    "# reverese the number as 523 from 325\n",
    "print((str(a)[::-1]))\n",
    "# check whether that number is divisible by 7\n",
    "if a%7==0:\n",
    "    print(\"divisible\")\n",
    "else:\n",
    "    print(\"not divisible\")\n",
    "# reverse the whole string as 1.\"country is america\" and 2.mirror image\n",
    "print((str(s)[::-1]))\n",
    "\n",
    "# create a list of 1,2,3,5,7,8,12\n",
    "# Get the len, sum, min, max,mean,median and geometric  of the list\n",
    "# ADD 1 element 25 to this list\n",
    "# sort the list in ascending order\n",
    "# take another variable called tempmax=max(sortedlist)\n",
    "# sort that list in descending order\n",
    "# get the last eleemnt in this descending order sorted list\n",
    "# check if the element is equal to the minimum element in that list\n",
    "# check how many numbers in the list are Even\n",
    "# multiply every element with 2\n",
    "# check number of even numbers in the list\n",
    "# check divisibilty of 5 with every element\n",
    "# get the count of numbers divisible by 7\n",
    "# create another list which are first five multiples of 8 and add it to the previous list\n",
    "# sort the whole list in ascending order\n",
    "# remove the last element using pop\n",
    "# using for loop remove all the elements divisible by 4\n"
   ]
  },
  {
   "cell_type": "code",
   "execution_count": 8,
   "id": "e46d551a",
   "metadata": {},
   "outputs": [
    {
     "name": "stdout",
     "output_type": "stream",
     "text": [
      "yrtnuoc a si aciremA\n",
      "country a is America\n"
     ]
    }
   ],
   "source": [
    "# reverse the whole string as 1.\"country is america\" and 2.mirror image\n",
    "print((str(s)[::-1]))\n",
    "w = s.split()\n",
    "reversed_sentence = ' '.join(w[::-1])\n",
    "print(reversed_sentence)\n",
    "\n",
    "\n"
   ]
  },
  {
   "cell_type": "code",
   "execution_count": 9,
   "id": "5343921e",
   "metadata": {},
   "outputs": [
    {
     "name": "stdout",
     "output_type": "stream",
     "text": [
      "[1, 2, 3, 5, 7, 8, 12]\n"
     ]
    }
   ],
   "source": [
    "# create a list of 1,2,3,5,7,8,12\n",
    "list_1=[1,2,3,5,7,8,12]\n",
    "print(list_1)\n",
    "\n"
   ]
  },
  {
   "cell_type": "code",
   "execution_count": 10,
   "id": "98059cec",
   "metadata": {},
   "outputs": [
    {
     "name": "stdout",
     "output_type": "stream",
     "text": [
      "7\n",
      "38\n",
      "1\n",
      "12\n",
      "5.428571428571429\n"
     ]
    }
   ],
   "source": [
    "# Get the len, sum, min, max,mean,median and geometric  of the list\n",
    "x=len(list_1)\n",
    "print(x)\n",
    "d=0\n",
    "for i in list_1:\n",
    "    d+=i\n",
    "print(d)\n",
    "y=min(list_1)\n",
    "print(y)\n",
    "z=max(list_1)\n",
    "print(z)\n",
    "mean=d/x\n",
    "print(mean)\n",
    "#median\n",
    "#geometric mean\n",
    "\n",
    "    \n"
   ]
  },
  {
   "cell_type": "code",
   "execution_count": 11,
   "id": "a7b2f439",
   "metadata": {},
   "outputs": [
    {
     "name": "stdout",
     "output_type": "stream",
     "text": [
      "[1, 2, 3, 5, 7, 8, 12, 25]\n"
     ]
    }
   ],
   "source": [
    "# ADD 1 element 25 to this list\n",
    "list_1.append(25)\n",
    "print(list_1)\n",
    "list_1.remove(25)\n",
    "\n"
   ]
  },
  {
   "cell_type": "code",
   "execution_count": 12,
   "id": "186c4c94",
   "metadata": {},
   "outputs": [
    {
     "name": "stdout",
     "output_type": "stream",
     "text": [
      "[15, 19, 22, 37, 42, 75]\n"
     ]
    }
   ],
   "source": [
    "# sort the list in ascending order\n",
    "list_2=[15,75,22,37,42,19]\n",
    "list_2.sort()\n",
    "print(list_2)\n"
   ]
  },
  {
   "cell_type": "code",
   "execution_count": 13,
   "id": "333a3260",
   "metadata": {},
   "outputs": [
    {
     "name": "stdout",
     "output_type": "stream",
     "text": [
      "[75, 42, 37, 22, 19, 15]\n"
     ]
    }
   ],
   "source": [
    "# take another variable called tempmax=max(sortedlist)\n",
    "# sort that list in descending order\n",
    "#tempmax =max(sorted list)\n",
    "list_2.sort(reverse=True)\n",
    "print(list_2)"
   ]
  },
  {
   "cell_type": "code",
   "execution_count": 14,
   "id": "cf1220b4",
   "metadata": {},
   "outputs": [
    {
     "name": "stdout",
     "output_type": "stream",
     "text": [
      "15\n",
      "True\n"
     ]
    }
   ],
   "source": [
    "# get the last eleemnt in this descending order sorted list\n",
    "# check if the element is equal to the minimum element in that list\n",
    "a=list_2[-1]\n",
    "print(a)\n",
    "b=min(list_2)\n",
    "if a==b:\n",
    "    print(\"True\")\n",
    "else:\n",
    "    print(\"False\")"
   ]
  },
  {
   "cell_type": "code",
   "execution_count": 15,
   "id": "53fbff9f",
   "metadata": {},
   "outputs": [
    {
     "name": "stdout",
     "output_type": "stream",
     "text": [
      "2\n"
     ]
    }
   ],
   "source": [
    "# check how many numbers in the list are Even\n",
    "count=0\n",
    "for i in list_2:\n",
    "    if i%2==0:\n",
    "        count+=1\n",
    "print(count)\n",
    "\n",
    "\n"
   ]
  },
  {
   "cell_type": "code",
   "execution_count": 16,
   "id": "a5fc2835",
   "metadata": {},
   "outputs": [
    {
     "name": "stdout",
     "output_type": "stream",
     "text": [
      "[150, 84, 74, 44, 38, 30]\n"
     ]
    }
   ],
   "source": [
    "# multiply every element with 2\n",
    "new_list=[]\n",
    "for i in list_2:\n",
    "    new_list.append(i*2)\n",
    "print(new_list)\n",
    "    \n",
    "    "
   ]
  },
  {
   "cell_type": "code",
   "execution_count": 17,
   "id": "b6b659c2",
   "metadata": {},
   "outputs": [
    {
     "name": "stdout",
     "output_type": "stream",
     "text": [
      "Divisible\n",
      "not divisible\n",
      "not divisible\n",
      "not divisible\n",
      "not divisible\n",
      "Divisible\n"
     ]
    }
   ],
   "source": [
    "# check number of even numbers in the list\n",
    "# check divisibilty of 5 with every element\n",
    "for i in new_list:\n",
    "    if i%5==0:\n",
    "        print(\"Divisible\")\n",
    "    else:\n",
    "        print(\"not divisible\")\n",
    "\n",
    "\n",
    "\n"
   ]
  },
  {
   "cell_type": "code",
   "execution_count": 18,
   "id": "101904a3",
   "metadata": {},
   "outputs": [
    {
     "name": "stdout",
     "output_type": "stream",
     "text": [
      "1\n"
     ]
    }
   ],
   "source": [
    "# get the count of numbers divisible by 7\n",
    "count=0\n",
    "for i in new_list:\n",
    "    if i%7==0:\n",
    "        count+=1\n",
    "print(count)\n",
    "        "
   ]
  },
  {
   "cell_type": "code",
   "execution_count": 19,
   "id": "2bbf34e0",
   "metadata": {},
   "outputs": [
    {
     "name": "stdout",
     "output_type": "stream",
     "text": [
      "[8, 16, 24, 32, 40]\n",
      "[150, 84, 74, 44, 38, 30, 8, 16, 24, 32, 40]\n"
     ]
    }
   ],
   "source": [
    "# create another list which are first five multiples of 8 and add it to the previous list\n",
    "list_3=[]\n",
    "for i in range(1,6):\n",
    "    d=i*8\n",
    "    list_3.append(d)\n",
    "print(list_3)\n",
    "new_list.extend(list_3)\n",
    "print(new_list)\n"
   ]
  },
  {
   "cell_type": "code",
   "execution_count": 20,
   "id": "435939f9",
   "metadata": {},
   "outputs": [
    {
     "name": "stdout",
     "output_type": "stream",
     "text": [
      "[150, 84, 74, 44, 38, 40]\n",
      "[38, 40, 44, 74, 84, 150]\n",
      "[38, 40, 44, 74, 84, 150, 150, 84, 74, 44, 38, 30]\n",
      "[38, 40, 74, 44, 84, 150, 30]\n",
      "[30, 38, 40, 44, 74, 84, 150]\n"
     ]
    }
   ],
   "source": [
    "# sort the whole list in ascending order\n",
    "new_list = new_list[:5] + new_list[-1:]\n",
    "print(new_list)\n",
    "new_list.sort()\n",
    "print(new_list)\n",
    "list_3=[150, 84, 74, 44, 38, 30]\n",
    "new_list.extend(list_3)\n",
    "print(new_list)\n",
    "unique_list = list(set(new_list))\n",
    "print(unique_list)\n",
    "unique_list.sort()\n",
    "print(unique_list)"
   ]
  },
  {
   "cell_type": "code",
   "execution_count": 21,
   "id": "9e6c0cf2",
   "metadata": {},
   "outputs": [
    {
     "name": "stdout",
     "output_type": "stream",
     "text": [
      "[30, 38, 40, 44, 74, 84]\n",
      "[30, 38, 74]\n"
     ]
    }
   ],
   "source": [
    "# remove the last element using pop\n",
    "# using for loop remove all the elements divisible by 4\n",
    "unique_list.pop()\n",
    "print(unique_list)\n",
    "list_4=[]\n",
    "for i in unique_list:\n",
    "    if i%4!=0:\n",
    "        list_4.append(i)\n",
    "print(list_4)"
   ]
  },
  {
   "cell_type": "code",
   "execution_count": 22,
   "id": "fdf87f1d",
   "metadata": {},
   "outputs": [],
   "source": [
    "#Tuple:\n",
    "#Functions:\n",
    "#Create a fuction to add three numbers\n",
    "#Create a function that takes in a string and checks if the string is a palindrome  \n",
    "#Create a function to that takes two numbers and return the square of the smaller number and cube of the larger number  \n",
    "#Create a function that takes a string \"America is a country\" and returns a list of the words of the given string"
   ]
  },
  {
   "cell_type": "code",
   "execution_count": 23,
   "id": "cf1d3dd1",
   "metadata": {},
   "outputs": [
    {
     "name": "stdout",
     "output_type": "stream",
     "text": [
      "(1, 2, 3, 4, 5, 6)\n",
      "(6, 5, 4, 3, 2, 1)\n"
     ]
    }
   ],
   "source": [
    "#Create a tuple of length 6 and sort it in ascending and descending order\n",
    "tuple_1=(1,2,3,4,5,6)\n",
    "list_1=list(tuple_1)\n",
    "list_1.sort()\n",
    "tuple_2=tuple(list_1)\n",
    "print(tuple_2)\n",
    "list_1.sort(reverse=True)\n",
    "tuple_3=tuple(list_1)\n",
    "print(tuple_3)\n"
   ]
  },
  {
   "cell_type": "code",
   "execution_count": 24,
   "id": "3293a39d",
   "metadata": {},
   "outputs": [
    {
     "name": "stdout",
     "output_type": "stream",
     "text": [
      "6\n",
      "1\n",
      "6\n",
      "21\n"
     ]
    }
   ],
   "source": [
    "#Get max, min, len and sum of the tuple\n",
    "x=max(tuple_1)\n",
    "print(x)\n",
    "y=min(tuple_1)\n",
    "print(y)\n",
    "z=len(tuple_1)\n",
    "print(z)\n",
    "s=sum(tuple_1)\n",
    "print(s)"
   ]
  },
  {
   "cell_type": "code",
   "execution_count": 25,
   "id": "65f25748",
   "metadata": {},
   "outputs": [
    {
     "name": "stdout",
     "output_type": "stream",
     "text": [
      "(6, 5, 4, 3, 2, 1)\n"
     ]
    }
   ],
   "source": [
    "#Remove the largest and smallest elements\n",
    "\n",
    "\n",
    "modified_list = [i for i in list_1 if i != x and i != y]\n",
    "\n",
    "modified_tuple = tuple(list_1)\n",
    "print(modified_tuple)\n"
   ]
  },
  {
   "cell_type": "code",
   "execution_count": 26,
   "id": "a62f3401",
   "metadata": {},
   "outputs": [
    {
     "name": "stdout",
     "output_type": "stream",
     "text": [
      "[36, 25, 16, 9, 4, 1]\n",
      "[36, 25, 16, 9, 4, 1]\n"
     ]
    }
   ],
   "source": [
    "#Now, use the remianing elements and make a list out of them call it temp_list\n",
    "#Create another list which is the square of the previois list \n",
    "temp_list=list(modified_tuple)\n",
    "result=[]\n",
    "for i in temp_list:\n",
    "    d=i**2\n",
    "    result.append(d)\n",
    "print(result)\n",
    "temp_list=result\n",
    "print(temp_list)\n",
    "\n",
    "    \n"
   ]
  },
  {
   "cell_type": "code",
   "execution_count": 27,
   "id": "d534e924",
   "metadata": {},
   "outputs": [
    {
     "name": "stdout",
     "output_type": "stream",
     "text": [
      "[46656, 15625, 4096, 729, 64, 1]\n"
     ]
    }
   ],
   "source": [
    "#using zip command, create another list such that the resulting list is equal to the cubes of the elements in the temp_list \n",
    "result_list=[]\n",
    "for i in temp_list:\n",
    "    d=i**3\n",
    "    result_list.append(d)\n",
    "#x=zip(result_list,temp_list)\n",
    "print(result_list)"
   ]
  },
  {
   "cell_type": "code",
   "execution_count": 28,
   "id": "eae93cbe",
   "metadata": {},
   "outputs": [
    {
     "name": "stdout",
     "output_type": "stream",
     "text": [
      "[1, 4, 9, 16, 25, 36]\n",
      "[1, 4, 9, 16, 25, 36]\n"
     ]
    }
   ],
   "source": [
    "#apply the methods sort() and sorted() on temp_list, learn the difference\n",
    "temp_list.sort()\n",
    "print(temp_list)\n",
    "new_list=sorted(temp_list)\n",
    "print(new_list)"
   ]
  },
  {
   "cell_type": "code",
   "execution_count": 29,
   "id": "1a1b4925",
   "metadata": {},
   "outputs": [
    {
     "name": "stdout",
     "output_type": "stream",
     "text": [
      "[1, 4, 9, 25]\n"
     ]
    }
   ],
   "source": [
    "#Apply pop() and remove() on the temp_list and Be ready to explain the difference between them \n",
    "temp_list.pop()\n",
    "temp_list.remove(16)\n",
    "print(temp_list)"
   ]
  },
  {
   "cell_type": "code",
   "execution_count": 30,
   "id": "7034b515",
   "metadata": {},
   "outputs": [
    {
     "name": "stdout",
     "output_type": "stream",
     "text": [
      "{1, 2, 3, 4, 5}\n",
      "{1, 4, 9, 16, 25}\n"
     ]
    }
   ],
   "source": [
    "#create two sets of length 5, must include the number 1 in themOne set should be squares of other\n",
    "\n",
    "list1=[]\n",
    "list2=[]\n",
    "for i in range(1,6):\n",
    "    list1.append(i)\n",
    "    d=i**2\n",
    "    list2.append(d)\n",
    "set1=set(list1)\n",
    "print(set1)\n",
    "set2=set(list2)\n",
    "print(set2)\n",
    "\n"
   ]
  },
  {
   "cell_type": "code",
   "execution_count": 31,
   "id": "d15387e5",
   "metadata": {},
   "outputs": [
    {
     "name": "stdout",
     "output_type": "stream",
     "text": [
      "{1, 2, 3, 4, 5, 6}\n",
      "{1, 2, 3, 4, 5}\n",
      "{1, 2, 3, 4, 5, 9, 16, 25}\n",
      "{1, 4}\n",
      "{2, 3, 5}\n",
      "False\n"
     ]
    }
   ],
   "source": [
    "#Apply the methods on both of them: \n",
    "#addremoveunionintersectiondifferenceissubset\n",
    "set1.add(6)\n",
    "print(set1)\n",
    "set1.remove(6)\n",
    "print(set1)\n",
    "set3=set1.union(set2)\n",
    "print(set3)\n",
    "set4=set1.intersection(set2)\n",
    "print(set4)\n",
    "set5=set1.difference(set2)\n",
    "print(set5)\n",
    "is_subset = set1.issubset(set2)\n",
    "print(is_subset)\n",
    "\n"
   ]
  },
  {
   "cell_type": "code",
   "execution_count": 32,
   "id": "af28e011",
   "metadata": {},
   "outputs": [
    {
     "name": "stdout",
     "output_type": "stream",
     "text": [
      "{'United States': 13, 'Canada': 6, 'Australia': 9, 'Germany': 7, 'Japan': 5}\n"
     ]
    }
   ],
   "source": [
    "#create a dictionary of 5 country names as keys and values as their lengths of names Apply all these methods on the dict\n",
    "#getkeysvaluesitemsupdateclearpop\n",
    "dict1={\n",
    "    'United States': len('United States'),\n",
    "    'Canada': len('Canada'),\n",
    "    'Australia': len('Australia'),\n",
    "    'Germany': len('Germany'),\n",
    "    'Japan': len('Japan')\n",
    "}\n",
    "\n",
    "print(dict1)\n"
   ]
  },
  {
   "cell_type": "code",
   "execution_count": 35,
   "id": "22d28758",
   "metadata": {},
   "outputs": [
    {
     "name": "stdout",
     "output_type": "stream",
     "text": [
      "dict_keys(['United States', 'Canada', 'Australia', 'Germany', 'Japan'])\n",
      "dict_values([13, 6, 9, 7, 5])\n",
      "dict_items([('United States', 13), ('Canada', 6), ('Australia', 9), ('Germany', 7), ('Japan', 5)])\n",
      "{'United States': 13, 'Canada': 6, 'Australia': 9, 'Germany': 7, 'Japan': 5, 'Asia': 4}\n",
      "{'United States': 13, 'Canada': 6, 'Australia': 9, 'Germany': 7, 'Japan': 5}\n",
      "{}\n"
     ]
    }
   ],
   "source": [
    "#getkeysvaluesitemsupdateclearpop\n",
    "keys = dict1.keys()\n",
    "print(keys)\n",
    "values = dict1.values()\n",
    "print(values)\n",
    "items=dict1.items()\n",
    "print(items)\n",
    "other_dict={'Asia':4}\n",
    "dict1.update(other_dict)\n",
    "print(dict1)\n",
    "dict1.pop('Asia')\n",
    "print(dict1)\n",
    "dict1.clear()\n",
    "print(dict1)\n"
   ]
  },
  {
   "cell_type": "code",
   "execution_count": 36,
   "id": "d2c6b8be",
   "metadata": {},
   "outputs": [
    {
     "name": "stdout",
     "output_type": "stream",
     "text": [
      "Sum of three numbers: 14\n"
     ]
    }
   ],
   "source": [
    "#Create a fuction to add three numbers\n",
    "def my_function(a,b,c):\n",
    "    \n",
    "    sum_of_numbers = a + b + c\n",
    "    return sum_of_numbers\n",
    "\n",
    "result=my_function(2, 5, 7)\n",
    "print(\"Sum of three numbers:\", result)\n",
    "\n",
    "    \n",
    "    \n",
    "\n",
    "\n"
   ]
  },
  {
   "cell_type": "code",
   "execution_count": 37,
   "id": "7d6f3407",
   "metadata": {},
   "outputs": [
    {
     "name": "stdout",
     "output_type": "stream",
     "text": [
      "Enter a string: radar\n",
      "The string is a palindrome.\n"
     ]
    }
   ],
   "source": [
    "#Create a function that takes in a string and checks if the string is a palindrome  \n",
    "def is_palindrome(string):\n",
    "    string = string.lower()\n",
    "    string=string.replace(\" \", \"\")\n",
    "    string=string.strip(\",.!?\")\n",
    "    reversed_string = string[::-1]\n",
    "    if string == reversed_string:\n",
    "        return True\n",
    "    else:\n",
    "        return False\n",
    "input_string = input(\"Enter a string: \")\n",
    "if is_palindrome(input_string):\n",
    "    print(\"The string is a palindrome.\")\n",
    "else:\n",
    "    print(\"The string is not a palindrome.\")\n"
   ]
  },
  {
   "cell_type": "code",
   "execution_count": 42,
   "id": "fa2f44d7",
   "metadata": {},
   "outputs": [
    {
     "name": "stdout",
     "output_type": "stream",
     "text": [
      "Enter the first number: 2\n",
      "Enter the second number: 3\n",
      "Square of the smaller number: 4.0\n",
      "Cube of the larger number: 27.0\n"
     ]
    }
   ],
   "source": [
    "#Create a function to that takes two numbers and return the square of the smaller number and cube of the larger number  \n",
    "def my_function(a,b):\n",
    "    for i in (a,b):\n",
    "        d=min((a,b))\n",
    "        square=d**2\n",
    "        f=max((a,b))\n",
    "        cube=f**3\n",
    "        return square,cube\n",
    "a = float(input(\"Enter the first number: \"))\n",
    "b = float(input(\"Enter the second number: \"))\n",
    "result = my_function(a,b)\n",
    "square, cube = result\n",
    "print(\"Square of the smaller number:\", square)\n",
    "print(\"Cube of the larger number:\", cube)\n",
    "        "
   ]
  },
  {
   "cell_type": "code",
   "execution_count": null,
   "id": "59c6fc5f",
   "metadata": {},
   "outputs": [],
   "source": [
    "#Create a function that takes a string \"America is a country\" and returns a list of the words of the given string\n"
   ]
  },
  {
   "cell_type": "code",
   "execution_count": null,
   "id": "14bc2995",
   "metadata": {},
   "outputs": [],
   "source": []
  }
 ],
 "metadata": {
  "kernelspec": {
   "display_name": "Python 3 (ipykernel)",
   "language": "python",
   "name": "python3"
  },
  "language_info": {
   "codemirror_mode": {
    "name": "ipython",
    "version": 3
   },
   "file_extension": ".py",
   "mimetype": "text/x-python",
   "name": "python",
   "nbconvert_exporter": "python",
   "pygments_lexer": "ipython3",
   "version": "3.9.12"
  }
 },
 "nbformat": 4,
 "nbformat_minor": 5
}
