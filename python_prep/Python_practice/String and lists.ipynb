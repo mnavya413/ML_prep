{
 "cells": [
  {
   "cell_type": "code",
   "execution_count": 1,
   "id": "12307f5f",
   "metadata": {},
   "outputs": [
    {
     "name": "stdout",
     "output_type": "stream",
     "text": [
      "America is a country\n"
     ]
    }
   ],
   "source": [
    "# Take a string \"America is a country\"\n",
    "\n",
    "\n",
    "s = \"America is a country\"\n",
    "print(s)\n",
    "\n",
    "\n",
    "\n",
    "\n",
    "\n",
    "\n",
    "# ADD 1 element 25 to this list\n",
    "# sort the list in ascending order\n",
    "# take another variable called tempmax=max(sortedlist)\n",
    "# sort that list in descending order\n",
    "# get the last eleemnt in this descending order sorted list\n",
    "# check if the element is equal to the minimum element in that list\n",
    "# check how many numbers in the list are Even\n",
    "# multiply every element with 2\n",
    "# check number of even numbers in the list\n",
    "# check divisibilty of 5 with every element\n",
    "# get the count of numbers divisible by 7\n",
    "# create another list which are first five multiples of 8 and add it to the previous list\n",
    "# sort the whole list in ascending order\n",
    "# remove the last element using pop\n",
    "# using for loop remove all the elements divisible by 4\n"
   ]
  },
  {
   "cell_type": "code",
   "execution_count": 2,
   "id": "6cac6ca2",
   "metadata": {},
   "outputs": [
    {
     "name": "stdout",
     "output_type": "stream",
     "text": [
      "20\n"
     ]
    }
   ],
   "source": [
    "# get the length of the String\n",
    "T = len(s)\n",
    "print(T)"
   ]
  },
  {
   "cell_type": "code",
   "execution_count": 3,
   "id": "d7b49fa3",
   "metadata": {},
   "outputs": [
    {
     "name": "stdout",
     "output_type": "stream",
     "text": [
      "america is a country\n"
     ]
    }
   ],
   "source": [
    "\n",
    "# Casefold it\n",
    "x = s.casefold()\n",
    "print(x)"
   ]
  },
  {
   "cell_type": "code",
   "execution_count": 4,
   "id": "26fad468",
   "metadata": {},
   "outputs": [
    {
     "name": "stdout",
     "output_type": "stream",
     "text": [
      "america is a country\n",
      "3\n",
      "8\n",
      "America&is&a&country\n"
     ]
    }
   ],
   "source": [
    "# convert into lowercase\n",
    "y = s.lower()\n",
    "print(y)\n",
    "# get the number of a's\n",
    "z = y.count(\"a\")\n",
    "print(z)\n",
    "\n",
    "# get the number of vowels in it\n",
    "s = \"America is a country\"\n",
    "count=0\n",
    "vowel=\"AEIOUaeiou\"\n",
    "for i in s:\n",
    "  if i in vowel:\n",
    "   count+=1\n",
    "print(count)\n",
    "\n",
    "# replace space with \"&\"\n",
    "new_string = s.replace(' ', '&')\n",
    "print(new_string)\n"
   ]
  },
  {
   "cell_type": "code",
   "execution_count": 5,
   "id": "9fc80953",
   "metadata": {},
   "outputs": [
    {
     "name": "stdout",
     "output_type": "stream",
     "text": [
      "1891\n"
     ]
    }
   ],
   "source": [
    "# get the sum of ascii numbers of every charcter\n",
    "c = 0\n",
    "for i in range(len(s)):\n",
    "    (s[i], ord(s[i]))\n",
    "    c += ord(s[i])\n",
    "print(c)"
   ]
  },
  {
   "cell_type": "code",
   "execution_count": 10,
   "id": "e243e016",
   "metadata": {},
   "outputs": [
    {
     "name": "stdout",
     "output_type": "stream",
     "text": [
      "Enter any number to test whether it is odd or even: 523\n",
      "odd\n"
     ]
    }
   ],
   "source": [
    "# check if that number is even or odd\n",
    "a=int (input (\"Enter any number to test whether it is odd or even: \"))\n",
    "if a%2==0:\n",
    "    print(\"even\")\n",
    "else:\n",
    "    print(\"odd\")"
   ]
  },
  {
   "cell_type": "code",
   "execution_count": 11,
   "id": "9e9cb7a5",
   "metadata": {},
   "outputs": [
    {
     "name": "stdout",
     "output_type": "stream",
     "text": [
      "325\n"
     ]
    }
   ],
   "source": [
    "# reverese the number as 523 from 325\n",
    "print(str(a)[::-1])"
   ]
  },
  {
   "cell_type": "code",
   "execution_count": 12,
   "id": "7f6e32bc",
   "metadata": {},
   "outputs": [
    {
     "name": "stdout",
     "output_type": "stream",
     "text": [
      "not divisible\n"
     ]
    }
   ],
   "source": [
    "# check whether that number is divisible by 7\n",
    "if a%7==0:\n",
    "    print(\"divisible\")\n",
    "else:\n",
    "    print(\"not divisible\")"
   ]
  },
  {
   "cell_type": "code",
   "execution_count": 16,
   "id": "2b450824",
   "metadata": {},
   "outputs": [
    {
     "name": "stdout",
     "output_type": "stream",
     "text": [
      "yrtnuoc a si aciremA\n",
      "country is america\n"
     ]
    }
   ],
   "source": [
    "# reverse the whole string as 1.\"country is america\" and 2.mirror image\n",
    "print(str(s)[::-1])\n",
    "def reverse_string(s):\n",
    "    w = s.split()\n",
    "    reversed_sentence = ' '.join(w[::-1])\n",
    "    return reversed_sentence\n",
    "\n",
    "\n",
    "s = \"america is country\"\n",
    "reversed_string = reverse_string(s)\n",
    "print(reversed_string)\n",
    "\n"
   ]
  },
  {
   "cell_type": "code",
   "execution_count": 17,
   "id": "3a084e6c",
   "metadata": {},
   "outputs": [
    {
     "name": "stdout",
     "output_type": "stream",
     "text": [
      "[1, 2, 3, 5, 7, 8, 12]\n"
     ]
    }
   ],
   "source": [
    "# create a list of 1,2,3,5,7,8,12\n",
    "list_1=[1,2,3,5,7,8,12]\n",
    "print(list_1)"
   ]
  },
  {
   "cell_type": "code",
   "execution_count": 27,
   "id": "b4f07918",
   "metadata": {},
   "outputs": [
    {
     "name": "stdout",
     "output_type": "stream",
     "text": [
      "7\n",
      "38\n",
      "1\n",
      "12\n",
      "5.428571428571429\n"
     ]
    }
   ],
   "source": [
    "# Get the len, sum, min, max,mean,median and geometric  of the list\n",
    "x=len(list_1)\n",
    "print(x)\n",
    "d=0\n",
    "for i in list_1:\n",
    "    d += i\n",
    "print(d)\n",
    "y=min(list_1)\n",
    "print(y)\n",
    "z=max(list_1)\n",
    "print(z)\n",
    "mean=d/x\n",
    "print(mean)\n",
    "\n"
   ]
  },
  {
   "cell_type": "code",
   "execution_count": null,
   "id": "139df57a",
   "metadata": {},
   "outputs": [],
   "source": []
  }
 ],
 "metadata": {
  "kernelspec": {
   "display_name": "Python 3 (ipykernel)",
   "language": "python",
   "name": "python3"
  },
  "language_info": {
   "codemirror_mode": {
    "name": "ipython",
    "version": 3
   },
   "file_extension": ".py",
   "mimetype": "text/x-python",
   "name": "python",
   "nbconvert_exporter": "python",
   "pygments_lexer": "ipython3",
   "version": "3.9.12"
  }
 },
 "nbformat": 4,
 "nbformat_minor": 5
}
