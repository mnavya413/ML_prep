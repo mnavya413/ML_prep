{
 "cells": [
  {
   "cell_type": "code",
   "execution_count": null,
   "id": "c1607388",
   "metadata": {},
   "outputs": [],
   "source": [
    "Basic:\n",
    "Create Series\n",
    "Create DataFrame\n",
    "load data\n",
    "load csv\n",
    "load excel\n",
    "df.size()\n",
    "df.shape()\n",
    "df.info()\n",
    "df.describe()\n",
    "head\n",
    "tail\n",
    "sample\n",
    "columns\n",
    "df.index()\n",
    "unique()\n",
    "nunique()\n",
    "value_counts()\n",
    "dtypes\n",
    "len()\n",
    "convert Series to DataFrame and viceversa\n",
    "select single column in a df \n",
    "select 2 columns in a df\n",
    "create another df with a subset of columns of the original dataset\n",
    "filter the dataset based on a specific value for a specific column\n",
    "Use chain commands followed by filtering \n",
    "Sort a df based on a specific column\n",
    "Handling missing values\n",
    "Check for nulls\n",
    "Drop nulls\n",
    "replace nulls with mean, forward fill(ffill), backward fill(bfill)\n",
    "-------------------------------------------------------------------------------------------------------------------------\n",
    "Joins\n",
    "Merge\n",
    "Inner join\n",
    "Left join\n",
    "Right join\n",
    "Full Outer join\n",
    "Concat\n",
    "Append\n",
    "-----------------------------------------------------------------------------------------------------\n"
   ]
  }
 ],
 "metadata": {
  "kernelspec": {
   "display_name": "Python 3 (ipykernel)",
   "language": "python",
   "name": "python3"
  },
  "language_info": {
   "codemirror_mode": {
    "name": "ipython",
    "version": 3
   },
   "file_extension": ".py",
   "mimetype": "text/x-python",
   "name": "python",
   "nbconvert_exporter": "python",
   "pygments_lexer": "ipython3",
   "version": "3.9.12"
  }
 },
 "nbformat": 4,
 "nbformat_minor": 5
}
