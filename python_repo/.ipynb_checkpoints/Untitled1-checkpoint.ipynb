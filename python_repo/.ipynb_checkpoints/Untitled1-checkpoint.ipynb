{
 "cells": [
  {
   "cell_type": "code",
   "execution_count": null,
   "id": "b82d7fde",
   "metadata": {},
   "outputs": [],
   "source": [
    "numbers = [3, 8, 15, 26, 32, 41, 50, 64, 78, 85]\n",
    "\n",
    "What is the first number in the list?\n",
    "\n",
    "What is the last number in the list?\n",
    "\n",
    "What is the sum of the first and second numbers?\n",
    "\n",
    "What is the difference between the seventh and third numbers?\n",
    "\n",
    "How many even numbers are there in the list?\n",
    "\n",
    "If you multiply the fifth number by the ninth number, what do you get?\n",
    "\n",
    "What is the average of all the numbers in the list?\n",
    "\n",
    "If you add 5 to the sixth number, what new number do you get?\n",
    "\n",
    "What is the smallest number in the list?\n",
    "\n",
    "If you divide the eighth number by the second number, what is the quotient?\n",
    "\n",
    "What method would you use to add the number 90 to the end of the list?\n",
    "\n",
    "How can you remove the number 15 from the list?\n",
    "\n",
    "Which method would you use to insert the number 45 at the fifth position in the list?\n",
    "\n",
    "If you wanted to make a copy of the list without modifying the original list, what method would you employ?\n",
    "\n",
    "How can you determine the position of the number 32 in the list?\n",
    "\n",
    "What would be the result of applying the pop() method on the list without any argument?\n",
    "\n",
    "If you wanted to count the occurrences of the number 50 in the list, which method should you use?\n",
    "\n",
    "How would you reverse the order of the numbers in the list?\n",
    "\n",
    "Which method would you use to sort the list in descending order?\n",
    "\n",
    "If you wanted to clear all the elements from the list, making it an empty list, which method would you employ?\n",
    "\n",
    "If you wanted to extend the list by appending elements from another list, e.g., [91, 92, 93], which method would you use?\n",
    "\n",
    "How would you retrieve the index of the number 64 starting the search from the fourth position of the list?\n",
    "\n",
    "If you want to remove the last three numbers from the list, which combination of methods could be useful?\n",
    "\n",
    "After applying the clear() method to the list, what will be the result if you print the list?"
   ]
  },
  {
   "cell_type": "code",
   "execution_count": 4,
   "id": "e9bd4fdc",
   "metadata": {},
   "outputs": [
    {
     "name": "stdout",
     "output_type": "stream",
     "text": [
      "3\n",
      "85\n",
      "11\n",
      "35\n"
     ]
    }
   ],
   "source": [
    "numbers = [3, 8, 15, 26, 32, 41, 50, 64, 78, 85]\n",
    "\n",
    "#What is the first number in the list?\n",
    "#What is the last number in the list?\n",
    "#What is the sum of the first and second numbers?\n",
    "#What is the difference between the seventh and third numbers?\n",
    "\n",
    "print(numbers[0])\n",
    "print(numbers[-1])\n",
    "print(numbers[0]+numbers[1])\n",
    "print(numbers[6]-numbers[2])"
   ]
  },
  {
   "cell_type": "code",
   "execution_count": 6,
   "id": "a9d304d4",
   "metadata": {},
   "outputs": [
    {
     "name": "stdout",
     "output_type": "stream",
     "text": [
      "6\n"
     ]
    }
   ],
   "source": [
    "#How many even numbers are there in the list?\n",
    "even_count=[num for num in numbers if num%2==0]\n",
    "print(len(even_count))"
   ]
  },
  {
   "cell_type": "code",
   "execution_count": 8,
   "id": "9af4d635",
   "metadata": {},
   "outputs": [
    {
     "name": "stdout",
     "output_type": "stream",
     "text": [
      "2496\n"
     ]
    }
   ],
   "source": [
    "#If you multiply the fifth number by the ninth number, what do you get?\n",
    "print(numbers[4]*numbers[8])\n"
   ]
  },
  {
   "cell_type": "code",
   "execution_count": 13,
   "id": "4a39541c",
   "metadata": {},
   "outputs": [
    {
     "name": "stdout",
     "output_type": "stream",
     "text": [
      "40.2\n"
     ]
    }
   ],
   "source": [
    "#What is the average of all the numbers in the list?\n",
    "\n",
    "total_sum=0\n",
    "length=0\n",
    "for num in numbers:\n",
    "    total_sum+=num\n",
    "    length+=1\n",
    "average=total_sum/length    \n",
    "print(average)    "
   ]
  },
  {
   "cell_type": "code",
   "execution_count": 16,
   "id": "a150bb4c",
   "metadata": {},
   "outputs": [
    {
     "name": "stdout",
     "output_type": "stream",
     "text": [
      "46\n",
      "40.2\n"
     ]
    }
   ],
   "source": [
    "#If you add 5 to the sixth number, what new number do you get?\n",
    "new_number=numbers[5]+5\n",
    "print(new_number)\n",
    "average=sum(numbers)/len(numbers)\n",
    "\n",
    "print(average)"
   ]
  },
  {
   "cell_type": "code",
   "execution_count": 17,
   "id": "1509de46",
   "metadata": {},
   "outputs": [
    {
     "name": "stdout",
     "output_type": "stream",
     "text": [
      "3\n"
     ]
    }
   ],
   "source": [
    "#What is the smallest number in the list?\n",
    "print(min(numbers))"
   ]
  },
  {
   "cell_type": "code",
   "execution_count": 19,
   "id": "de04ed9b",
   "metadata": {},
   "outputs": [
    {
     "name": "stdout",
     "output_type": "stream",
     "text": [
      "8.0\n"
     ]
    }
   ],
   "source": [
    "#If you divide the eighth number by the second number, what is the quotient?\n",
    "Quotient=numbers[7]/numbers[1]\n",
    "print(Quotient)"
   ]
  },
  {
   "cell_type": "code",
   "execution_count": 20,
   "id": "4dfc604c",
   "metadata": {},
   "outputs": [
    {
     "name": "stdout",
     "output_type": "stream",
     "text": [
      "[3, 8, 15, 26, 32, 41, 50, 64, 78, 85, 90]\n"
     ]
    }
   ],
   "source": [
    "#What method would you use to add the number 90 to the end of the list?\n",
    "numbers.append(90)\n",
    "print(numbers)"
   ]
  },
  {
   "cell_type": "code",
   "execution_count": 21,
   "id": "24163daf",
   "metadata": {},
   "outputs": [],
   "source": [
    "#How can you remove the number 15 from the list?\n",
    "numbers.remove(15)\n"
   ]
  },
  {
   "cell_type": "code",
   "execution_count": 22,
   "id": "da325056",
   "metadata": {},
   "outputs": [
    {
     "name": "stdout",
     "output_type": "stream",
     "text": [
      "[3, 8, 26, 32, 41, 50, 64, 78, 85, 90]\n"
     ]
    }
   ],
   "source": [
    "print(numbers)"
   ]
  },
  {
   "cell_type": "code",
   "execution_count": 23,
   "id": "549c151a",
   "metadata": {},
   "outputs": [
    {
     "name": "stdout",
     "output_type": "stream",
     "text": [
      "[3, 8, 26, 32, 45, 41, 50, 64, 78, 85, 90]\n"
     ]
    }
   ],
   "source": [
    "#Which method would you use to insert the number 45 at the fifth position in the list?\n",
    "numbers.insert(4,45)\n",
    "print(numbers)"
   ]
  },
  {
   "cell_type": "code",
   "execution_count": 24,
   "id": "4af034ab",
   "metadata": {},
   "outputs": [
    {
     "name": "stdout",
     "output_type": "stream",
     "text": [
      "[3, 8, 26, 32, 45, 41, 50, 64, 78, 85, 90]\n"
     ]
    }
   ],
   "source": [
    "#If you wanted to make a copy of the list without modifying the original list, what method would you employ?\n",
    "copy_list=numbers.copy()\n",
    "print(copy_list)"
   ]
  },
  {
   "cell_type": "code",
   "execution_count": 25,
   "id": "18a1f1d1",
   "metadata": {},
   "outputs": [
    {
     "data": {
      "text/plain": [
       "3"
      ]
     },
     "execution_count": 25,
     "metadata": {},
     "output_type": "execute_result"
    }
   ],
   "source": [
    "#How can you determine the position of the number 32 in the list?\n",
    "numbers.index(32)"
   ]
  },
  {
   "cell_type": "code",
   "execution_count": 26,
   "id": "e15fa7a0",
   "metadata": {},
   "outputs": [
    {
     "data": {
      "text/plain": [
       "90"
      ]
     },
     "execution_count": 26,
     "metadata": {},
     "output_type": "execute_result"
    }
   ],
   "source": [
    "#What would be the result of applying the pop() method on the list without any argument?\n",
    "numbers.pop()"
   ]
  },
  {
   "cell_type": "code",
   "execution_count": 28,
   "id": "793211a4",
   "metadata": {},
   "outputs": [
    {
     "data": {
      "text/plain": [
       "1"
      ]
     },
     "execution_count": 28,
     "metadata": {},
     "output_type": "execute_result"
    }
   ],
   "source": [
    "#If you wanted to count the occurrences of the number 50 in the list, which method should you use?\n",
    "numbers.count(50)\n",
    "\n",
    "#How would you reverse the order of the numbers in the list?\n",
    "\n",
    "\n",
    "#Which method would you use to sort the list in descending order?\n",
    "\n",
    "#If you wanted to clear all the elements from the list, making it an empty list, which method would you employ?\n",
    "\n",
    "#If you wanted to extend the list by appending elements from another list, e.g., [91, 92, 93], which method would you use?\n",
    "\n",
    "#How would you retrieve the index of the number 64 starting the search from the fourth position of the list?\n",
    "\n",
    "#If you want to remove the last three numbers from the list, which combination of methods could be useful?\n",
    "\n",
    "#After applying the clear() method to the list, what will be the result if you print the list?"
   ]
  },
  {
   "cell_type": "markdown",
   "id": "ce475a8d",
   "metadata": {},
   "source": []
  },
  {
   "cell_type": "raw",
   "id": "bc0ad6de",
   "metadata": {},
   "source": []
  }
 ],
 "metadata": {
  "kernelspec": {
   "display_name": "Python 3 (ipykernel)",
   "language": "python",
   "name": "python3"
  },
  "language_info": {
   "codemirror_mode": {
    "name": "ipython",
    "version": 3
   },
   "file_extension": ".py",
   "mimetype": "text/x-python",
   "name": "python",
   "nbconvert_exporter": "python",
   "pygments_lexer": "ipython3",
   "version": "3.9.12"
  }
 },
 "nbformat": 4,
 "nbformat_minor": 5
}
