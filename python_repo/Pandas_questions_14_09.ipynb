{
 "cells": [
  {
   "cell_type": "code",
   "execution_count": 14,
   "id": "9527872c",
   "metadata": {},
   "outputs": [],
   "source": [
    "import numpy as np\n",
    "import pandas as pd"
   ]
  },
  {
   "cell_type": "code",
   "execution_count": 15,
   "id": "4385dda1",
   "metadata": {},
   "outputs": [
    {
     "name": "stdout",
     "output_type": "stream",
     "text": [
      "   A   B   C\n",
      "0  0  10  20\n",
      "1  1  11  21\n",
      "2  2  12  22\n",
      "3  3  13  23\n",
      "4  4  14  24\n",
      "5  5  15  25\n",
      "6  6  16  26\n",
      "7  7  17  27\n",
      "8  8  18  28\n",
      "9  9  19  29\n"
     ]
    }
   ],
   "source": [
    "data = {'A': list(range(10)),\n",
    "'B': list(range(10, 20)),\n",
    "'C': list(range(20, 30))}\n",
    "\n",
    "df = pd.DataFrame(data)\n",
    "print(df)"
   ]
  },
  {
   "cell_type": "code",
   "execution_count": 21,
   "id": "a1e9b2a5",
   "metadata": {},
   "outputs": [
    {
     "name": "stdout",
     "output_type": "stream",
     "text": [
      "22\n"
     ]
    }
   ],
   "source": [
    "C=df.loc[2,'C']\n",
    "print(C)"
   ]
  },
  {
   "cell_type": "code",
   "execution_count": 25,
   "id": "62ee50d1",
   "metadata": {},
   "outputs": [
    {
     "name": "stdout",
     "output_type": "stream",
     "text": [
      "   A   B   C\n",
      "0  0  10  20\n",
      "1  1  11  21\n",
      "2  2  12  22\n"
     ]
    }
   ],
   "source": [
    "A_3=df.loc[df['A']<3]\n",
    "print(A_3)\n"
   ]
  },
  {
   "cell_type": "code",
   "execution_count": 26,
   "id": "046477d1",
   "metadata": {},
   "outputs": [
    {
     "name": "stdout",
     "output_type": "stream",
     "text": [
      "   A   B   C\n",
      "2  2  12  22\n",
      "3  3  13  23\n",
      "4  4  14  24\n",
      "5  5  15  25\n",
      "6  6  16  26\n",
      "7  7  17  27\n",
      "8  8  18  28\n",
      "9  9  19  29\n"
     ]
    }
   ],
   "source": [
    "C_21=df.loc[df['C']>21]\n",
    "print(C_21)"
   ]
  },
  {
   "cell_type": "code",
   "execution_count": 31,
   "id": "6869505c",
   "metadata": {},
   "outputs": [
    {
     "name": "stdout",
     "output_type": "stream",
     "text": [
      "   A   B   C\n",
      "0  0  10  20\n",
      "1  1  11  21\n",
      "2  2  12  22\n",
      "3  3  50  23\n",
      "4  4  14  24\n",
      "5  5  15  25\n",
      "6  6  16  26\n",
      "7  7  17  27\n",
      "8  8  18  28\n",
      "9  9  19  29\n"
     ]
    }
   ],
   "source": [
    "df.loc[3,'C']=23\n",
    "df.loc[3,'B']=50\n",
    "print(df)"
   ]
  },
  {
   "cell_type": "code",
   "execution_count": 34,
   "id": "6d7697e4",
   "metadata": {},
   "outputs": [
    {
     "name": "stdout",
     "output_type": "stream",
     "text": [
      "   A   B   C\n",
      "0  0  10  20\n",
      "2  2  12  22\n",
      "4  4  14  24\n",
      "6  6  16  26\n",
      "8  8  18  28\n"
     ]
    }
   ],
   "source": [
    "A_even=df[df['A']%2==0]\n",
    "print(A_even)"
   ]
  },
  {
   "cell_type": "code",
   "execution_count": 38,
   "id": "a9ce714f",
   "metadata": {},
   "outputs": [
    {
     "name": "stdout",
     "output_type": "stream",
     "text": [
      "   A   B    C\n",
      "0  0  10   20\n",
      "1  1  11   21\n",
      "2  2  12   22\n",
      "3  3  50  100\n",
      "4  4  14   24\n",
      "5  5  15   25\n",
      "6  6  16  100\n",
      "7  7  17  100\n",
      "8  8  18  100\n",
      "9  9  19  100\n"
     ]
    }
   ],
   "source": [
    "C_100=df.loc[df['B']>15,'C']=100\n",
    "print(df)"
   ]
  },
  {
   "cell_type": "code",
   "execution_count": 39,
   "id": "33beb66c",
   "metadata": {},
   "outputs": [
    {
     "name": "stdout",
     "output_type": "stream",
     "text": [
      "   A    B    C\n",
      "0  0  200   20\n",
      "1  1  200   21\n",
      "2  2   12   22\n",
      "3  3   50  100\n",
      "4  4   14   24\n",
      "5  5   15   25\n",
      "6  6   16  100\n",
      "7  7   17  100\n",
      "8  8   18  100\n",
      "9  9   19  100\n"
     ]
    }
   ],
   "source": [
    "B_200=df.loc[df['A']<2,'B']=200\n",
    "print(df)"
   ]
  },
  {
   "cell_type": "code",
   "execution_count": 42,
   "id": "f826520c",
   "metadata": {},
   "outputs": [
    {
     "name": "stdout",
     "output_type": "stream",
     "text": [
      "3    3\n",
      "6    6\n",
      "7    7\n",
      "8    8\n",
      "9    9\n",
      "Name: A, dtype: int64\n"
     ]
    }
   ],
   "source": [
    "C_A=df.loc[df['C']==100,'A']\n",
    "print(C_A)"
   ]
  },
  {
   "cell_type": "code",
   "execution_count": null,
   "id": "ca8d3c72",
   "metadata": {},
   "outputs": [],
   "source": []
  }
 ],
 "metadata": {
  "kernelspec": {
   "display_name": "Python 3 (ipykernel)",
   "language": "python",
   "name": "python3"
  },
  "language_info": {
   "codemirror_mode": {
    "name": "ipython",
    "version": 3
   },
   "file_extension": ".py",
   "mimetype": "text/x-python",
   "name": "python",
   "nbconvert_exporter": "python",
   "pygments_lexer": "ipython3",
   "version": "3.9.12"
  }
 },
 "nbformat": 4,
 "nbformat_minor": 5
}
