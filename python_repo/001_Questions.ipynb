{
 "cells": [
  {
   "cell_type": "code",
   "execution_count": null,
   "id": "064846d1",
   "metadata": {},
   "outputs": [],
   "source": [
    "Write a function\n",
    "\n",
    "That takes in a list of numbers and concatenate all those numbers in a string\n",
    "Take a 3 didgit number and reverse it without using math operations\n",
    "Take a string called apple and reverse it \n",
    "Take a string called Austin and create a list of ascii values of each charcter in Austin\n",
    "Check which of those numbers are divisible by 3 and 5\n",
    "get the sum of all those numbers\n",
    "that takes in a list of numbers and raise every number to the power of its coressponding index\n",
    "get the product of the first and last numbers \n",
    "check if this product is even or odd\n",
    "take a list of 5 numbers and create another list of multiples of 7 of this list\n",
    "use zip command to create another list such that each element is equal to the multiple of the above 2 lists\n",
    "divide every number in this list with 7 and get the sum of all those remainders\n",
    "\n"
   ]
  },
  {
   "cell_type": "code",
   "execution_count": 8,
   "id": "faf5454d",
   "metadata": {},
   "outputs": [
    {
     "name": "stdout",
     "output_type": "stream",
     "text": [
      "12345\n"
     ]
    }
   ],
   "source": [
    "#Write a function that takes in a list of numbers and concatenate all those numbers in a string\n",
    "def string(number):\n",
    "   \n",
    "        \n",
    "    string1 = ''.join(str(num) for num in number)\n",
    "    return string1\n",
    "numbers = [1, 2, 3, 4, 5]\n",
    "result = string(numbers)\n",
    "print(result)\n",
    "\n",
    "\n",
    "\n",
    "\n",
    "\n",
    "\n"
   ]
  },
  {
   "cell_type": "code",
   "execution_count": 11,
   "id": "f7519b96",
   "metadata": {},
   "outputs": [
    {
     "name": "stdout",
     "output_type": "stream",
     "text": [
      "543\n"
     ]
    }
   ],
   "source": [
    "#Take a 3 didgit number and reverse it without using math operations\n",
    "d=345\n",
    "\n",
    "e=str(d)\n",
    "f=e[::-1]\n",
    "g=int(f)\n",
    "print(g)\n"
   ]
  },
  {
   "cell_type": "code",
   "execution_count": 12,
   "id": "88417a40",
   "metadata": {},
   "outputs": [
    {
     "name": "stdout",
     "output_type": "stream",
     "text": [
      "elppa\n"
     ]
    }
   ],
   "source": [
    "#Take a string called apple and reverse it \n",
    "s=\"apple\"\n",
    "h=s[::-1]\n",
    "print(h)"
   ]
  },
  {
   "cell_type": "code",
   "execution_count": 19,
   "id": "11512106",
   "metadata": {},
   "outputs": [
    {
     "name": "stdout",
     "output_type": "stream",
     "text": [
      "[65, 117, 115, 116, 105, 110]\n"
     ]
    }
   ],
   "source": [
    "#Take a string called Austin and create a list of ascii values of each charcter in Austin\n",
    "d=\"Austin\"\n",
    "result=[]\n",
    "for i in d:\n",
    "    e=ord(i)\n",
    "    result.append(e)\n",
    "print(result)\n"
   ]
  },
  {
   "cell_type": "code",
   "execution_count": 20,
   "id": "8af87e21",
   "metadata": {},
   "outputs": [
    {
     "name": "stdout",
     "output_type": "stream",
     "text": [
      "105\n"
     ]
    }
   ],
   "source": [
    "#Check which of those numbers are divisible by 3 and 5\n",
    "for i in result:\n",
    "    if i%3==0 and i%5==0:\n",
    "        print(i)\n",
    "    "
   ]
  },
  {
   "cell_type": "code",
   "execution_count": 23,
   "id": "8be3992f",
   "metadata": {},
   "outputs": [
    {
     "name": "stdout",
     "output_type": "stream",
     "text": [
      "6\n"
     ]
    }
   ],
   "source": [
    "#get the sum of all those numbers\n",
    "d=105\n",
    "e=str(d)\n",
    "f=0\n",
    "for i in e:\n",
    "    f+=int(i)\n",
    "print(f)    "
   ]
  },
  {
   "cell_type": "code",
   "execution_count": 36,
   "id": "5c2916d6",
   "metadata": {},
   "outputs": [
    {
     "name": "stdout",
     "output_type": "stream",
     "text": [
      "[1, 3, 16, 125]\n"
     ]
    }
   ],
   "source": [
    "#that takes in a list of numbers and raise every number to the power of its coressponding index\n",
    "def raise_(numbers):\n",
    "        power=[]\n",
    "        for i in range(len(numbers)):\n",
    "            result=1\n",
    "            for j in range(i):\n",
    "                result *= numbers[i] \n",
    "            power.append(result)\n",
    "        return power\n",
    "\n",
    "numbers1 = [2, 3, 4, 5]\n",
    "result = raise_(numbers1)\n",
    "print(result)\n"
   ]
  },
  {
   "cell_type": "code",
   "execution_count": 43,
   "id": "23a62432",
   "metadata": {},
   "outputs": [
    {
     "name": "stdout",
     "output_type": "stream",
     "text": [
      "10\n"
     ]
    }
   ],
   "source": [
    "#get the product of the first and last numbers\n",
    "def product(numbers):\n",
    "    product1 = numbers[0] * numbers[-1]\n",
    "    return product1\n",
    "\n",
    "numbers1 = [2, 3, 4, 5]\n",
    "result = product(numbers1)\n",
    "print(result)\n",
    "\n"
   ]
  },
  {
   "cell_type": "code",
   "execution_count": 48,
   "id": "b62f440a",
   "metadata": {},
   "outputs": [
    {
     "name": "stdout",
     "output_type": "stream",
     "text": [
      "Even\n"
     ]
    }
   ],
   "source": [
    "#check if this product is even or odd\n",
    "def function(product):\n",
    "    if product % 2 == 0:\n",
    "        return \"Even\"\n",
    "    else:\n",
    "        return \"Odd\"\n",
    "product = 20\n",
    "result = function(product)\n",
    "print(result)\n",
    "\n"
   ]
  },
  {
   "cell_type": "code",
   "execution_count": 55,
   "id": "774622ff",
   "metadata": {},
   "outputs": [
    {
     "name": "stdout",
     "output_type": "stream",
     "text": [
      "[49, 42, 56]\n"
     ]
    }
   ],
   "source": [
    "#take a list of 5 numbers and create another list of multiples of 7 of this list\n",
    "def multiple_7(a):\n",
    "    multiples = [num for num in a if num % 7 == 0]\n",
    "    return multiples\n",
    "numbers1 = [27, 49, 42, 56]\n",
    "result1 = multiple_7(numbers1)\n",
    "print(result1)\n",
    "            \n"
   ]
  },
  {
   "cell_type": "code",
   "execution_count": 57,
   "id": "02e9e677",
   "metadata": {},
   "outputs": [
    {
     "name": "stdout",
     "output_type": "stream",
     "text": [
      "[1323, 2058, 2352]\n"
     ]
    }
   ],
   "source": [
    "#use zip command to create another list such that each element is equal to the multiple of the above 2 lists\n",
    "def multiples_list(list1,list2):\n",
    "        multiples=[num1*num2 for num1,num2 in zip(list1,list2)]\n",
    "        return multiples\n",
    "numbers1 = [27, 49, 42, 56]\n",
    "result=[49, 42, 56]\n",
    "res=multiples_list(numbers1,result)\n",
    "print(res)\n",
    "\n"
   ]
  },
  {
   "cell_type": "code",
   "execution_count": 64,
   "id": "a6d33cc4",
   "metadata": {},
   "outputs": [
    {
     "name": "stdout",
     "output_type": "stream",
     "text": [
      "0\n"
     ]
    }
   ],
   "source": [
    "#divide every number in this list with 7 and get the sum of all those remainders\n",
    "def sum_7(numbers):\n",
    "    remainders = [num % 7 for num in numbers]\n",
    "    sum_7 = sum(remainders)\n",
    "    return sum_7\n",
    "res=[1323, 2058, 2352]\n",
    "d=sum_7(res)\n",
    "print(d)\n"
   ]
  },
  {
   "cell_type": "code",
   "execution_count": null,
   "id": "43e4f9fe",
   "metadata": {},
   "outputs": [],
   "source": []
  }
 ],
 "metadata": {
  "kernelspec": {
   "display_name": "Python 3 (ipykernel)",
   "language": "python",
   "name": "python3"
  },
  "language_info": {
   "codemirror_mode": {
    "name": "ipython",
    "version": 3
   },
   "file_extension": ".py",
   "mimetype": "text/x-python",
   "name": "python",
   "nbconvert_exporter": "python",
   "pygments_lexer": "ipython3",
   "version": "3.9.12"
  }
 },
 "nbformat": 4,
 "nbformat_minor": 5
}
